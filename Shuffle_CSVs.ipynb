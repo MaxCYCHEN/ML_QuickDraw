{
 "cells": [
  {
   "cell_type": "code",
   "execution_count": 10,
   "metadata": {},
   "outputs": [],
   "source": [
    "%matplotlib inline\n",
    "from IPython.core.interactiveshell import InteractiveShell\n",
    "InteractiveShell.ast_node_interactivity = \"all\"\n",
    "import json\n",
    "import os\n",
    "import datetime as dt\n",
    "from tqdm import tqdm\n",
    "import pandas as pd\n",
    "import numpy as np"
   ]
  },
  {
   "cell_type": "code",
   "execution_count": 11,
   "metadata": {},
   "outputs": [],
   "source": [
    "def f2cat(filename: str) -> str:\n",
    "    return filename.split('.')[0]\n",
    "\n",
    "class Simplified():\n",
    "    def __init__(self, input_path='dataset/train_simplified/'):\n",
    "        self.input_path = input_path\n",
    "\n",
    "    def list_all_categories(self):\n",
    "        #files = os.listdir(os.path.join(self.input_path, 'train_simplified'))\n",
    "        files = os.listdir(os.path.join(self.input_path))\n",
    "        return sorted([f2cat(f) for f in files], key=str.lower)\n",
    "\n",
    "    def read_training_csv(self, category, nrows=None, usecols=None, drawing_transform=False):\n",
    "        df = pd.read_csv(os.path.join(self.input_path, category + '.csv'),\n",
    "                         nrows=nrows, parse_dates=['timestamp'], usecols=usecols)\n",
    "        if drawing_transform:\n",
    "            df['drawing'] = df['drawing'].apply(json.loads)\n",
    "        return df\n",
    "    \n",
    "\n"
   ]
  },
  {
   "cell_type": "code",
   "execution_count": 12,
   "metadata": {},
   "outputs": [
    {
     "name": "stdout",
     "output_type": "stream",
     "text": [
      "Total categories: 340\n"
     ]
    }
   ],
   "source": [
    "start = dt.datetime.now()\n",
    "CSV_DIR = \"dataset/train_simplified/\"\n",
    "s = Simplified(CSV_DIR)\n",
    "NCSVS = 100\n",
    "categories = s.list_all_categories()\n",
    "print(\"Total categories: {}\".format(len(categories)))"
   ]
  },
  {
   "cell_type": "code",
   "execution_count": 13,
   "metadata": {},
   "outputs": [
    {
     "name": "stderr",
     "output_type": "stream",
     "text": [
      "340it [12:59,  2.29s/it]\n"
     ]
    }
   ],
   "source": [
    "DIR_PATH = 'dataset/train_simplified_all_shuffle' # The dir of processed suffle dataset\n",
    "\n",
    "for y, cat in tqdm(enumerate(categories)):\n",
    "    #df = s.read_training_csv(cat, nrows=30000)\n",
    "    df = s.read_training_csv(cat, nrows=None)\n",
    "    df['y'] = y\n",
    "    df['cv'] = (df.key_id // 10 ** 7) % NCSVS\n",
    "    for k in range(NCSVS):\n",
    "        filename = 'train_k{}.csv'.format(k)\n",
    "        chunk = df[df.cv == k]\n",
    "        chunk = chunk.drop(['key_id'], axis=1)\n",
    "        if y == 0:\n",
    "            chunk.to_csv(os.path.join(DIR_PATH, filename), index=False)\n",
    "        else:\n",
    "            chunk.to_csv(os.path.join(DIR_PATH, filename), mode='a', header=False, index=False)"
   ]
  },
  {
   "cell_type": "code",
   "execution_count": 14,
   "metadata": {},
   "outputs": [
    {
     "name": "stderr",
     "output_type": "stream",
     "text": [
      "100%|██████████| 100/100 [3:20:38<00:00, 120.39s/it] "
     ]
    },
    {
     "name": "stdout",
     "output_type": "stream",
     "text": [
      "(497740, 7)\n"
     ]
    },
    {
     "name": "stderr",
     "output_type": "stream",
     "text": [
      "\n"
     ]
    }
   ],
   "source": [
    "for k in tqdm(range(NCSVS)):\n",
    "    filename = 'train_k{}.csv'.format(k)\n",
    "    filename = os.path.join(DIR_PATH, filename)\n",
    "    if os.path.exists(filename):\n",
    "        df = pd.read_csv(filename)\n",
    "        df['rnd'] = np.random.rand(len(df))\n",
    "        df = df.sort_values(by='rnd').drop('rnd', axis=1)\n",
    "        df.to_csv(filename + '.gz', compression='gzip', index=False)\n",
    "        os.remove(filename)\n",
    "print(df.shape)"
   ]
  }
 ],
 "metadata": {
  "kernelspec": {
   "display_name": "NuEdgeWise_env",
   "language": "python",
   "name": "python3"
  },
  "language_info": {
   "codemirror_mode": {
    "name": "ipython",
    "version": 3
   },
   "file_extension": ".py",
   "mimetype": "text/x-python",
   "name": "python",
   "nbconvert_exporter": "python",
   "pygments_lexer": "ipython3",
   "version": "3.8.13"
  },
  "orig_nbformat": 4
 },
 "nbformat": 4,
 "nbformat_minor": 2
}
