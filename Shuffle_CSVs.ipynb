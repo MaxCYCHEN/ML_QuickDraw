{
 "cells": [
  {
   "cell_type": "code",
   "execution_count": 2,
   "metadata": {},
   "outputs": [],
   "source": [
    "%matplotlib inline\n",
    "from IPython.core.interactiveshell import InteractiveShell\n",
    "InteractiveShell.ast_node_interactivity = \"all\"\n",
    "import json\n",
    "import os\n",
    "import datetime as dt\n",
    "from tqdm import tqdm\n",
    "import pandas as pd\n",
    "import numpy as np"
   ]
  },
  {
   "cell_type": "code",
   "execution_count": 3,
   "metadata": {},
   "outputs": [],
   "source": [
    "OUT_DIR_PATH = 'dataset/train_simplified_93nature_shuffle' # The output dir of processed suffle dataset.\n",
    "CSV_DIR = \"dataset/train_simplified_93nature/\"             # The original categories dataset which is CSV files with label name, for example dataset/train_simplified.\n",
    "NCSVS = 100                                                # Split the shufled data into NCSVS part, normally this no need to change."
   ]
  },
  {
   "cell_type": "code",
   "execution_count": 4,
   "metadata": {},
   "outputs": [],
   "source": [
    "def f2cat(filename: str) -> str:\n",
    "    return filename.split('.')[0]\n",
    "\n",
    "class Simplified():\n",
    "    def __init__(self, input_path='dataset/train_simplified/'):\n",
    "        self.input_path = input_path\n",
    "\n",
    "    def list_all_categories(self):\n",
    "        #files = os.listdir(os.path.join(self.input_path, 'train_simplified'))\n",
    "        files = os.listdir(os.path.join(self.input_path))\n",
    "        return sorted([f2cat(f) for f in files], key=str.lower)\n",
    "\n",
    "    def read_training_csv(self, category, nrows=None, usecols=None, drawing_transform=False):\n",
    "        df = pd.read_csv(os.path.join(self.input_path, category + '.csv'),\n",
    "                         nrows=nrows, parse_dates=['timestamp'], usecols=usecols)\n",
    "        if drawing_transform:\n",
    "            df['drawing'] = df['drawing'].apply(json.loads)\n",
    "        return df"
   ]
  },
  {
   "cell_type": "code",
   "execution_count": 5,
   "metadata": {},
   "outputs": [
    {
     "name": "stdout",
     "output_type": "stream",
     "text": [
      "Total categories: 93\n"
     ]
    },
    {
     "data": {
      "text/plain": [
       "628"
      ]
     },
     "execution_count": 5,
     "metadata": {},
     "output_type": "execute_result"
    }
   ],
   "source": [
    "start = dt.datetime.now()\n",
    "s = Simplified(CSV_DIR)\n",
    "categories = s.list_all_categories()\n",
    "print(\"Total categories: {}\".format(len(categories)))\n",
    "\n",
    "with open('categories.txt', 'w') as f:\n",
    "    f.write('\\n'.join(categories))"
   ]
  },
  {
   "cell_type": "code",
   "execution_count": 6,
   "metadata": {},
   "outputs": [
    {
     "name": "stderr",
     "output_type": "stream",
     "text": [
      "0it [00:00, ?it/s]"
     ]
    },
    {
     "name": "stderr",
     "output_type": "stream",
     "text": [
      "93it [03:00,  1.94s/it]\n"
     ]
    }
   ],
   "source": [
    "\n",
    "for y, cat in tqdm(enumerate(categories)):\n",
    "    #df = s.read_training_csv(cat, nrows=30000)\n",
    "    df = s.read_training_csv(cat, nrows=None)\n",
    "    df['y'] = y\n",
    "    df['cv'] = (df.key_id // 10 ** 7) % NCSVS\n",
    "    for k in range(NCSVS):\n",
    "        filename = 'train_k{}.csv'.format(k)\n",
    "        chunk = df[df.cv == k]\n",
    "        chunk = chunk.drop(['key_id'], axis=1)\n",
    "        if y == 0:\n",
    "            chunk.to_csv(os.path.join(OUT_DIR_PATH, filename), index=False)\n",
    "        else:\n",
    "            chunk.to_csv(os.path.join(OUT_DIR_PATH, filename), mode='a', header=False, index=False)"
   ]
  },
  {
   "cell_type": "code",
   "execution_count": 7,
   "metadata": {},
   "outputs": [
    {
     "name": "stderr",
     "output_type": "stream",
     "text": [
      "100%|██████████| 100/100 [55:06<00:00, 33.07s/it]"
     ]
    },
    {
     "name": "stdout",
     "output_type": "stream",
     "text": [
      "(134865, 7)\n"
     ]
    },
    {
     "name": "stderr",
     "output_type": "stream",
     "text": [
      "\n"
     ]
    }
   ],
   "source": [
    "for k in tqdm(range(NCSVS)):\n",
    "    filename = 'train_k{}.csv'.format(k)\n",
    "    filename = os.path.join(OUT_DIR_PATH, filename)\n",
    "    if os.path.exists(filename):\n",
    "        df = pd.read_csv(filename)\n",
    "        df['rnd'] = np.random.rand(len(df))\n",
    "        df = df.sort_values(by='rnd').drop('rnd', axis=1)\n",
    "        df.to_csv(filename + '.gz', compression='gzip', index=False)\n",
    "        os.remove(filename)\n",
    "print(df.shape)"
   ]
  }
 ],
 "metadata": {
  "kernelspec": {
   "display_name": "NuEdgeWise_env",
   "language": "python",
   "name": "python3"
  },
  "language_info": {
   "codemirror_mode": {
    "name": "ipython",
    "version": 3
   },
   "file_extension": ".py",
   "mimetype": "text/x-python",
   "name": "python",
   "nbconvert_exporter": "python",
   "pygments_lexer": "ipython3",
   "version": "3.8.13"
  },
  "orig_nbformat": 4
 },
 "nbformat": 4,
 "nbformat_minor": 2
}
