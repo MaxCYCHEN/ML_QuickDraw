{
 "cells": [
  {
   "cell_type": "markdown",
   "metadata": {},
   "source": [
    "# MobileNet Quick Drew Example\n",
    "- This notebook show you to load dataset, train mobilenet, test the model and convert to tflite for deployment on nuvoTon target board.\n",
    "- Please follow the step by step and you could change the parameters for exploring the possibility.  "
   ]
  },
  {
   "cell_type": "code",
   "execution_count": 10,
   "metadata": {},
   "outputs": [],
   "source": [
    "%matplotlib inline\n",
    "#from IPython.core.interactiveshell import InteractiveShell\n",
    "#InteractiveShell.ast_node_interactivity = \"all\"\n",
    "import os\n",
    "import sys\n",
    "import ast\n",
    "import re\n",
    "import pathlib\n",
    "import datetime as dt\n",
    "import matplotlib.pyplot as plt\n",
    "plt.rcParams['figure.figsize'] = [16, 10]\n",
    "plt.rcParams['font.size'] = 14\n",
    "import seaborn as sns\n",
    "import cv2\n",
    "import pandas as pd\n",
    "import numpy as np\n",
    "import tensorflow as tf\n",
    "from tensorflow import keras\n",
    "from tensorflow.keras.layers import Conv2D, MaxPooling2D, DepthwiseConv2D\n",
    "from tensorflow.keras.layers import Dense, Dropout, Flatten, Activation, BatchNormalization, ReLU, GlobalAveragePooling2D \n",
    "from tensorflow.keras.metrics import categorical_accuracy, top_k_categorical_accuracy, categorical_crossentropy\n",
    "from tensorflow.keras.models import Sequential\n",
    "from tensorflow.keras.callbacks import EarlyStopping, ReduceLROnPlateau\n",
    "from tensorflow.keras.optimizers import Adam\n",
    "start = dt.datetime.now()"
   ]
  },
  {
   "cell_type": "code",
   "execution_count": null,
   "metadata": {},
   "outputs": [
    {
     "name": "stdout",
     "output_type": "stream",
     "text": [
      "Work folder exist!\n"
     ]
    },
    {
     "data": {
      "text/plain": [
       "'./workspace/340_mobilenetv2'"
      ]
     },
     "execution_count": 3,
     "metadata": {},
     "output_type": "execute_result"
    }
   ],
   "source": [
    "#---------------------------------------------#\n",
    "# Update parameters basing on your request\n",
    "#---------------------------------------------#\n",
    "\n",
    "DP_DIR = './dataset/train_simplified_shuffle' # The shuffled dataset       \n",
    "INPUT_DIR = './dataset/train_simplified'      # The original dataset with label in file's name\n",
    "BASE_IMG_SIZE = 256                           # The original image's pixel size.\n",
    "NUM_CSVS = 100                                # The total shuffled fcsv files.\n",
    "NUM_CATS = 340                                # The classes number\n",
    "\n",
    "WORK_DIR = './workspace/340_mobilenetv2'      # The user defined name of work dir\n",
    "MODEL_NAME = 'mobilenetv2_340_30k'            # The output model's name\n",
    "\n",
    "STEPS_P_EPOCH = 1000                           # For trining, how many steps per epoch \n",
    "INPUT_IMG_SIZE = 64                           # The size of training input image\n",
    "BATCHSIZE = 530                               # For train data generator's batchsize => train data number every 1 epoch = STEPS_P_EPOCH * BATCHSIZE\n",
    "\n",
    "EPOCHS = 50                                  # How many EPOCHS for 1 training.\n",
    "\n",
    "MODEL_TYPE = 'mobilenetv2'                    # 'mobilenetv1', 'mobilenetv2', 'mobilenetv3'\n",
    "#---------------------------------------------#\n",
    "\n",
    "np.random.seed(seed=1987)\n",
    "#tf.set_random_seed(seed=1987)\n",
    "def f2cat(filename: str) -> str:\n",
    "    return filename.split('.')[0]\n",
    "\n",
    "def list_all_categories():\n",
    "    files = os.listdir(INPUT_DIR)\n",
    "    return sorted([f2cat(f) for f in files], key=str.lower)\n",
    "\n",
    "def create_dirs(proj_path, model_name): \n",
    "    if not os.path.exists(proj_path):\n",
    "        os.makedirs(proj_path)\n",
    "        os.makedirs(os.path.join(proj_path, model_name))\n",
    "        os.makedirs(os.path.join(proj_path, 'tflite'))\n",
    "        os.makedirs(os.path.join(proj_path, 'checkpoint'))\n",
    "    else:\n",
    "        print('Work folder exist!')    \n",
    "    return proj_path\n",
    "\n",
    "create_dirs(WORK_DIR, MODEL_NAME)    "
   ]
  },
  {
   "cell_type": "markdown",
   "metadata": {},
   "source": [
    "## 1. Create Image Generator for training and the validation dataset"
   ]
  },
  {
   "cell_type": "code",
   "execution_count": 4,
   "metadata": {},
   "outputs": [],
   "source": [
    "\n",
    "def draw_cv2(raw_strokes, size=256, lw=6, time_color=True):\n",
    "    img = np.zeros((BASE_IMG_SIZE, BASE_IMG_SIZE), np.uint8)\n",
    "    for t, stroke in enumerate(raw_strokes):\n",
    "        for i in range(len(stroke[0]) - 1):\n",
    "            color = 255 - min(t, 10) * 13 if time_color else 255 # encode the color by line sequence \n",
    "            _ = cv2.line(img, (stroke[0][i], stroke[1][i]),\n",
    "                         (stroke[0][i + 1], stroke[1][i + 1]), color, lw)\n",
    "    if size != BASE_IMG_SIZE:\n",
    "        return cv2.resize(img, (size, size))\n",
    "    else:\n",
    "        return img    \n",
    "\n",
    "def image_generator_xd(size, batchsize, ks, lw=6, time_color=True):\n",
    "    while True:\n",
    "        for k in np.random.permutation(ks):\n",
    "            filename = os.path.join(DP_DIR, 'train_k{}.csv.gz'.format(k))\n",
    "            for df in pd.read_csv(filename, chunksize=batchsize):\n",
    "                df['drawing'] = df['drawing'].apply(ast.literal_eval)\n",
    "                x = np.zeros((len(df), size, size, 1))\n",
    "                for i, raw_strokes in enumerate(df.drawing.values):\n",
    "                    x[i, :, :, 0] = draw_cv2(raw_strokes, size=size, lw=lw, time_color=time_color)\n",
    "                x /= 127.5\n",
    "                x -= 1.\n",
    "                y = keras.utils.to_categorical(df.y, num_classes=NUM_CATS)\n",
    "                yield x, y                \n",
    "\n",
    "def df_to_image_array_xd(df, size, lw=6, time_color=True):\n",
    "    df['drawing'] = df['drawing'].apply(ast.literal_eval)\n",
    "    x = np.zeros((len(df), size, size, 1))\n",
    "    for i, raw_strokes in enumerate(df.drawing.values):\n",
    "        x[i, :, :, 0] = draw_cv2(raw_strokes, size=size, lw=lw, time_color=time_color)\n",
    "    x /= 127.5\n",
    "    x -= 1.\n",
    "    return x"
   ]
  },
  {
   "cell_type": "code",
   "execution_count": 5,
   "metadata": {},
   "outputs": [
    {
     "name": "stdout",
     "output_type": "stream",
     "text": [
      "(100000, 32, 32, 1) (100000, 340)\n",
      "Validation array memory 0.38 GB\n"
     ]
    }
   ],
   "source": [
    "valid_df = pd.read_csv(os.path.join(DP_DIR, 'train_k{}.csv.gz'.format(NUM_CSVS - 1)), nrows=10**5) # Use the final csvs as validation set\n",
    "x_valid = df_to_image_array_xd(valid_df, INPUT_IMG_SIZE)\n",
    "y_valid = keras.utils.to_categorical(valid_df.y, num_classes=NUM_CATS)\n",
    "print(x_valid.shape, y_valid.shape)\n",
    "print('Validation array memory {:.2f} GB'.format(x_valid.nbytes / 1024.**3 ))"
   ]
  },
  {
   "cell_type": "markdown",
   "metadata": {},
   "source": [
    "## 2. Start to train"
   ]
  },
  {
   "cell_type": "markdown",
   "metadata": {},
   "source": [
    "#### train data generator"
   ]
  },
  {
   "cell_type": "code",
   "execution_count": 6,
   "metadata": {},
   "outputs": [],
   "source": [
    "train_datagen = image_generator_xd(size=INPUT_IMG_SIZE, BATCHSIZE=BATCHSIZE, ks=range(NUM_CSVS - 1))"
   ]
  },
  {
   "cell_type": "code",
   "execution_count": 7,
   "metadata": {},
   "outputs": [
    {
     "data": {
      "image/png": "[encoded data removed]",
      "text/plain": [
       "<Figure size 1200x1200 with 64 Axes>"
      ]
     },
     "metadata": {},
     "output_type": "display_data"
    }
   ],
   "source": [
    "x, y = next(train_datagen)\n",
    "n = 8\n",
    "fig, axs = plt.subplots(nrows=n, ncols=n, sharex=True, sharey=True, figsize=(12, 12))\n",
    "for i in range(n**2):\n",
    "    ax = axs[i // n, i % n]\n",
    "    ax.imshow(x[i, :, :, 0], cmap=plt.cm.gray)\n",
    "    ax.axis('off')\n",
    "plt.tight_layout()\n",
    "fig.savefig(os.path.join(WORK_DIR, 'bw.png'), dpi=300)\n",
    "plt.show();\n"
   ]
  },
  {
   "cell_type": "markdown",
   "metadata": {},
   "source": [
    "#### Create the model & training"
   ]
  },
  {
   "cell_type": "code",
   "execution_count": 11,
   "metadata": {},
   "outputs": [],
   "source": [
    "def find_best_ckpt(dir_path, model):\n",
    "      pattern = re.compile(r\"\\d.\\d+\")\n",
    "      max_number = None\n",
    "      # Iterate over the files in the directory\n",
    "      for file in dir_path.iterdir():\n",
    "          filename = file.name\n",
    "          match = pattern.search(filename)\n",
    "          if match:\n",
    "              number_str = match.group()\n",
    "              number = float(number_str)\n",
    "              if max_number is None or number > max_number:\n",
    "                  max_number = number\n",
    "      if max_number is None:\n",
    "          print(\"There is no best ckpt in this work project.\")  \n",
    "      else:\n",
    "          print(\"Find the best ckpt:{}\".format(pathlib.Path(dir_path)/(number_str+f'_best_val.ckpt')))\n",
    "          model.load_weights(str(pathlib.Path(dir_path)/(number_str+f'_best_val.ckpt')))      \n",
    "      \n",
    "      return model\n",
    "\n",
    "def top_3_accuracy(y_true, y_pred):\n",
    "    return top_k_categorical_accuracy(y_true, y_pred, k=3)"
   ]
  },
  {
   "cell_type": "code",
   "execution_count": 12,
   "metadata": {},
   "outputs": [
    {
     "name": "stdout",
     "output_type": "stream",
     "text": [
      "Previous model folder found; loading saved weights\n",
      "Find the best ckpt:workspace\\340_mobilenetv2\\checkpoint\\0.542_best_val.ckpt\n",
      "Model: \"mobilenet_1.00_32\"\n",
      "_________________________________________________________________\n",
      " Layer (type)                Output Shape              Param #   \n",
      "=================================================================\n",
      " input_1 (InputLayer)        [(None, 32, 32, 1)]       0         \n",
      "                                                                 \n",
      " conv1 (Conv2D)              (None, 16, 16, 32)        288       \n",
      "                                                                 \n",
      " conv1_bn (BatchNormalizatio  (None, 16, 16, 32)       128       \n",
      " n)                                                              \n",
      "                                                                 \n",
      " conv1_relu (ReLU)           (None, 16, 16, 32)        0         \n",
      "                                                                 \n",
      " conv_dw_1 (DepthwiseConv2D)  (None, 16, 16, 32)       288       \n",
      "                                                                 \n",
      " conv_dw_1_bn (BatchNormaliz  (None, 16, 16, 32)       128       \n",
      " ation)                                                          \n",
      "                                                                 \n",
      " conv_dw_1_relu (ReLU)       (None, 16, 16, 32)        0         \n",
      "                                                                 \n",
      " conv_pw_1 (Conv2D)          (None, 16, 16, 64)        2048      \n",
      "                                                                 \n",
      " conv_pw_1_bn (BatchNormaliz  (None, 16, 16, 64)       256       \n",
      " ation)                                                          \n",
      "                                                                 \n",
      " conv_pw_1_relu (ReLU)       (None, 16, 16, 64)        0         \n",
      "                                                                 \n",
      " conv_pad_2 (ZeroPadding2D)  (None, 17, 17, 64)        0         \n",
      "                                                                 \n",
      " conv_dw_2 (DepthwiseConv2D)  (None, 8, 8, 64)         576       \n",
      "                                                                 \n",
      " conv_dw_2_bn (BatchNormaliz  (None, 8, 8, 64)         256       \n",
      " ation)                                                          \n",
      "                                                                 \n",
      " conv_dw_2_relu (ReLU)       (None, 8, 8, 64)          0         \n",
      "                                                                 \n",
      " conv_pw_2 (Conv2D)          (None, 8, 8, 128)         8192      \n",
      "                                                                 \n",
      " conv_pw_2_bn (BatchNormaliz  (None, 8, 8, 128)        512       \n",
      " ation)                                                          \n",
      "                                                                 \n",
      " conv_pw_2_relu (ReLU)       (None, 8, 8, 128)         0         \n",
      "                                                                 \n",
      " conv_dw_3 (DepthwiseConv2D)  (None, 8, 8, 128)        1152      \n",
      "                                                                 \n",
      " conv_dw_3_bn (BatchNormaliz  (None, 8, 8, 128)        512       \n",
      " ation)                                                          \n",
      "                                                                 \n",
      " conv_dw_3_relu (ReLU)       (None, 8, 8, 128)         0         \n",
      "                                                                 \n",
      " conv_pw_3 (Conv2D)          (None, 8, 8, 128)         16384     \n",
      "                                                                 \n",
      " conv_pw_3_bn (BatchNormaliz  (None, 8, 8, 128)        512       \n",
      " ation)                                                          \n",
      "                                                                 \n",
      " conv_pw_3_relu (ReLU)       (None, 8, 8, 128)         0         \n",
      "                                                                 \n",
      " conv_pad_4 (ZeroPadding2D)  (None, 9, 9, 128)         0         \n",
      "                                                                 \n",
      " conv_dw_4 (DepthwiseConv2D)  (None, 4, 4, 128)        1152      \n",
      "                                                                 \n",
      " conv_dw_4_bn (BatchNormaliz  (None, 4, 4, 128)        512       \n",
      " ation)                                                          \n",
      "                                                                 \n",
      " conv_dw_4_relu (ReLU)       (None, 4, 4, 128)         0         \n",
      "                                                                 \n",
      " conv_pw_4 (Conv2D)          (None, 4, 4, 256)         32768     \n",
      "                                                                 \n",
      " conv_pw_4_bn (BatchNormaliz  (None, 4, 4, 256)        1024      \n",
      " ation)                                                          \n",
      "                                                                 \n",
      " conv_pw_4_relu (ReLU)       (None, 4, 4, 256)         0         \n",
      "                                                                 \n",
      " conv_dw_5 (DepthwiseConv2D)  (None, 4, 4, 256)        2304      \n",
      "                                                                 \n",
      " conv_dw_5_bn (BatchNormaliz  (None, 4, 4, 256)        1024      \n",
      " ation)                                                          \n",
      "                                                                 \n",
      " conv_dw_5_relu (ReLU)       (None, 4, 4, 256)         0         \n",
      "                                                                 \n",
      " conv_pw_5 (Conv2D)          (None, 4, 4, 256)         65536     \n",
      "                                                                 \n",
      " conv_pw_5_bn (BatchNormaliz  (None, 4, 4, 256)        1024      \n",
      " ation)                                                          \n",
      "                                                                 \n",
      " conv_pw_5_relu (ReLU)       (None, 4, 4, 256)         0         \n",
      "                                                                 \n",
      " conv_pad_6 (ZeroPadding2D)  (None, 5, 5, 256)         0         \n",
      "                                                                 \n",
      " conv_dw_6 (DepthwiseConv2D)  (None, 2, 2, 256)        2304      \n",
      "                                                                 \n",
      " conv_dw_6_bn (BatchNormaliz  (None, 2, 2, 256)        1024      \n",
      " ation)                                                          \n",
      "                                                                 \n",
      " conv_dw_6_relu (ReLU)       (None, 2, 2, 256)         0         \n",
      "                                                                 \n",
      " conv_pw_6 (Conv2D)          (None, 2, 2, 512)         131072    \n",
      "                                                                 \n",
      " conv_pw_6_bn (BatchNormaliz  (None, 2, 2, 512)        2048      \n",
      " ation)                                                          \n",
      "                                                                 \n",
      " conv_pw_6_relu (ReLU)       (None, 2, 2, 512)         0         \n",
      "                                                                 \n",
      " conv_dw_7 (DepthwiseConv2D)  (None, 2, 2, 512)        4608      \n",
      "                                                                 \n",
      " conv_dw_7_bn (BatchNormaliz  (None, 2, 2, 512)        2048      \n",
      " ation)                                                          \n",
      "                                                                 \n",
      " conv_dw_7_relu (ReLU)       (None, 2, 2, 512)         0         \n",
      "                                                                 \n",
      " conv_pw_7 (Conv2D)          (None, 2, 2, 512)         262144    \n",
      "                                                                 \n",
      " conv_pw_7_bn (BatchNormaliz  (None, 2, 2, 512)        2048      \n",
      " ation)                                                          \n",
      "                                                                 \n",
      " conv_pw_7_relu (ReLU)       (None, 2, 2, 512)         0         \n",
      "                                                                 \n",
      " conv_dw_8 (DepthwiseConv2D)  (None, 2, 2, 512)        4608      \n",
      "                                                                 \n",
      " conv_dw_8_bn (BatchNormaliz  (None, 2, 2, 512)        2048      \n",
      " ation)                                                          \n",
      "                                                                 \n",
      " conv_dw_8_relu (ReLU)       (None, 2, 2, 512)         0         \n",
      "                                                                 \n",
      " conv_pw_8 (Conv2D)          (None, 2, 2, 512)         262144    \n",
      "                                                                 \n",
      " conv_pw_8_bn (BatchNormaliz  (None, 2, 2, 512)        2048      \n",
      " ation)                                                          \n",
      "                                                                 \n",
      " conv_pw_8_relu (ReLU)       (None, 2, 2, 512)         0         \n",
      "                                                                 \n",
      " conv_dw_9 (DepthwiseConv2D)  (None, 2, 2, 512)        4608      \n",
      "                                                                 \n",
      " conv_dw_9_bn (BatchNormaliz  (None, 2, 2, 512)        2048      \n",
      " ation)                                                          \n",
      "                                                                 \n",
      " conv_dw_9_relu (ReLU)       (None, 2, 2, 512)         0         \n",
      "                                                                 \n",
      " conv_pw_9 (Conv2D)          (None, 2, 2, 512)         262144    \n",
      "                                                                 \n",
      " conv_pw_9_bn (BatchNormaliz  (None, 2, 2, 512)        2048      \n",
      " ation)                                                          \n",
      "                                                                 \n",
      " conv_pw_9_relu (ReLU)       (None, 2, 2, 512)         0         \n",
      "                                                                 \n",
      " conv_dw_10 (DepthwiseConv2D  (None, 2, 2, 512)        4608      \n",
      " )                                                               \n",
      "                                                                 \n",
      " conv_dw_10_bn (BatchNormali  (None, 2, 2, 512)        2048      \n",
      " zation)                                                         \n",
      "                                                                 \n",
      " conv_dw_10_relu (ReLU)      (None, 2, 2, 512)         0         \n",
      "                                                                 \n",
      " conv_pw_10 (Conv2D)         (None, 2, 2, 512)         262144    \n",
      "                                                                 \n",
      " conv_pw_10_bn (BatchNormali  (None, 2, 2, 512)        2048      \n",
      " zation)                                                         \n",
      "                                                                 \n",
      " conv_pw_10_relu (ReLU)      (None, 2, 2, 512)         0         \n",
      "                                                                 \n",
      " conv_dw_11 (DepthwiseConv2D  (None, 2, 2, 512)        4608      \n",
      " )                                                               \n",
      "                                                                 \n",
      " conv_dw_11_bn (BatchNormali  (None, 2, 2, 512)        2048      \n",
      " zation)                                                         \n",
      "                                                                 \n",
      " conv_dw_11_relu (ReLU)      (None, 2, 2, 512)         0         \n",
      "                                                                 \n",
      " conv_pw_11 (Conv2D)         (None, 2, 2, 512)         262144    \n",
      "                                                                 \n",
      " conv_pw_11_bn (BatchNormali  (None, 2, 2, 512)        2048      \n",
      " zation)                                                         \n",
      "                                                                 \n",
      " conv_pw_11_relu (ReLU)      (None, 2, 2, 512)         0         \n",
      "                                                                 \n",
      " conv_pad_12 (ZeroPadding2D)  (None, 3, 3, 512)        0         \n",
      "                                                                 \n",
      " conv_dw_12 (DepthwiseConv2D  (None, 1, 1, 512)        4608      \n",
      " )                                                               \n",
      "                                                                 \n",
      " conv_dw_12_bn (BatchNormali  (None, 1, 1, 512)        2048      \n",
      " zation)                                                         \n",
      "                                                                 \n",
      " conv_dw_12_relu (ReLU)      (None, 1, 1, 512)         0         \n",
      "                                                                 \n",
      " conv_pw_12 (Conv2D)         (None, 1, 1, 1024)        524288    \n",
      "                                                                 \n",
      " conv_pw_12_bn (BatchNormali  (None, 1, 1, 1024)       4096      \n",
      " zation)                                                         \n",
      "                                                                 \n",
      " conv_pw_12_relu (ReLU)      (None, 1, 1, 1024)        0         \n",
      "                                                                 \n",
      " conv_dw_13 (DepthwiseConv2D  (None, 1, 1, 1024)       9216      \n",
      " )                                                               \n",
      "                                                                 \n",
      " conv_dw_13_bn (BatchNormali  (None, 1, 1, 1024)       4096      \n",
      " zation)                                                         \n",
      "                                                                 \n",
      " conv_dw_13_relu (ReLU)      (None, 1, 1, 1024)        0         \n",
      "                                                                 \n",
      " conv_pw_13 (Conv2D)         (None, 1, 1, 1024)        1048576   \n",
      "                                                                 \n",
      " conv_pw_13_bn (BatchNormali  (None, 1, 1, 1024)       4096      \n",
      " zation)                                                         \n",
      "                                                                 \n",
      " conv_pw_13_relu (ReLU)      (None, 1, 1, 1024)        0         \n",
      "                                                                 \n",
      " global_average_pooling2d (G  (None, 1, 1, 1024)       0         \n",
      " lobalAveragePooling2D)                                          \n",
      "                                                                 \n",
      " dropout (Dropout)           (None, 1, 1, 1024)        0         \n",
      "                                                                 \n",
      " conv_preds (Conv2D)         (None, 1, 1, 340)         348500    \n",
      "                                                                 \n",
      " reshape_2 (Reshape)         (None, 340)               0         \n",
      "                                                                 \n",
      " predictions (Activation)    (None, 340)               0         \n",
      "                                                                 \n",
      "=================================================================\n",
      "Total params: 3,576,788\n",
      "Trainable params: 3,554,900\n",
      "Non-trainable params: 21,888\n",
      "_________________________________________________________________\n",
      "None\n"
     ]
    }
   ],
   "source": [
    "if MODEL_TYPE.lower() == 'mobilenetv1':\n",
    "    model = tf.keras.applications.MobileNet(input_shape=(INPUT_IMG_SIZE, INPUT_IMG_SIZE, 1),\n",
    "                                             alpha=1., weights=None, classes=NUM_CATS)\n",
    "    model.compile(optimizer=Adam(learning_rate=0.002), loss='categorical_crossentropy',\n",
    "              metrics=[categorical_crossentropy, categorical_accuracy, top_3_accuracy])\n",
    "    \n",
    "elif MODEL_TYPE.lower() == 'mobilenetv2':\n",
    "    model = tf.keras.applications.MobileNetV2(input_shape=(INPUT_IMG_SIZE, INPUT_IMG_SIZE, 1), \n",
    "                                              alpha=1., weights=None, classes=NUM_CATS)\n",
    "    model.compile(optimizer=Adam(learning_rate=0.002), loss='categorical_crossentropy',\n",
    "              metrics=[categorical_crossentropy, categorical_accuracy, top_3_accuracy])\n",
    "\n",
    "elif MODEL_TYPE.lower() == 'mobilenetv3':\n",
    "    model = tf.keras.applications.MobileNetV3Small(input_shape=(INPUT_IMG_SIZE, INPUT_IMG_SIZE, 1), \n",
    "                                                   alpha=1., weights=None, classes=NUM_CATS, minimalistic=True)\n",
    "    model.compile(optimizer=Adam(learning_rate=0.002), loss='categorical_crossentropy',\n",
    "              metrics=[categorical_crossentropy, categorical_accuracy, top_3_accuracy])\n",
    "         \n",
    "# If there is a checkpt, load the previous weights.\n",
    "if (pathlib.Path(WORK_DIR)/'checkpoint').exists():    \n",
    "    print(\"Previous checkpoint folder found; loading saved weights\")\n",
    "    model = find_best_ckpt((pathlib.Path(WORK_DIR)/'checkpoint'), model)\n",
    "else:\n",
    "    print(\"No checkpoint found, create the workfolder.\")\n",
    "  \n",
    "print(model.summary())"
   ]
  },
  {
   "cell_type": "code",
   "execution_count": 13,
   "metadata": {},
   "outputs": [
    {
     "name": "stdout",
     "output_type": "stream",
     "text": [
      "Epoch 1/100\n",
      "500/500 [==============================] - 65s 130ms/step - loss: 1.4048 - categorical_crossentropy: 1.4048 - categorical_accuracy: 0.6498 - top_3_accuracy: 0.8278 - val_loss: nan - val_categorical_crossentropy: nan - val_categorical_accuracy: 0.0031 - val_top_3_accuracy: 0.0000e+00 - lr: 0.0010\n",
      "Epoch 2/100\n",
      "227/500 [============>.................] - ETA: 28s - loss: 1.3903 - categorical_crossentropy: 1.3903 - categorical_accuracy: 0.6526 - top_3_accuracy: 0.8312"
     ]
    },
    {
     "ename": "KeyboardInterrupt",
     "evalue": "",
     "output_type": "error",
     "traceback": [
      "\u001b[1;31m---------------------------------------------------------------------------\u001b[0m",
      "\u001b[1;31mKeyboardInterrupt\u001b[0m                         Traceback (most recent call last)",
      "\u001b[1;32mc:\\Users\\USER\\Desktop\\ML\\ML_QuickDraw\\CNN.ipynb Cell 13\u001b[0m in \u001b[0;36m<cell line: 15>\u001b[1;34m()\u001b[0m\n\u001b[0;32m      <a href='vscode-notebook-cell:/c%3A/Users/USER/Desktop/ML/ML_QuickDraw/CNN.ipynb#X14sZmlsZQ%3D%3D?line=0'>1</a>\u001b[0m callbacks_chpt \u001b[39m=\u001b[39m tf\u001b[39m.\u001b[39mkeras\u001b[39m.\u001b[39mcallbacks\u001b[39m.\u001b[39mModelCheckpoint(\n\u001b[0;32m      <a href='vscode-notebook-cell:/c%3A/Users/USER/Desktop/ML/ML_QuickDraw/CNN.ipynb#X14sZmlsZQ%3D%3D?line=1'>2</a>\u001b[0m                 filepath\u001b[39m=\u001b[39m(os\u001b[39m.\u001b[39mpath\u001b[39m.\u001b[39mjoin(WORK_DIR, \u001b[39m'\u001b[39m\u001b[39mcheckpoint\u001b[39m\u001b[39m'\u001b[39m, \u001b[39m'\u001b[39m\u001b[39m{val_categorical_accuracy:.3f}\u001b[39;00m\u001b[39m_best_val.ckpt\u001b[39m\u001b[39m'\u001b[39m)),\n\u001b[0;32m      <a href='vscode-notebook-cell:/c%3A/Users/USER/Desktop/ML/ML_QuickDraw/CNN.ipynb#X14sZmlsZQ%3D%3D?line=2'>3</a>\u001b[0m                 save_weights_only\u001b[39m=\u001b[39m\u001b[39mTrue\u001b[39;00m, \n\u001b[1;32m   (...)\u001b[0m\n\u001b[0;32m      <a href='vscode-notebook-cell:/c%3A/Users/USER/Desktop/ML/ML_QuickDraw/CNN.ipynb#X14sZmlsZQ%3D%3D?line=5'>6</a>\u001b[0m                 save_best_only\u001b[39m=\u001b[39m\u001b[39mTrue\u001b[39;00m, \n\u001b[0;32m      <a href='vscode-notebook-cell:/c%3A/Users/USER/Desktop/ML/ML_QuickDraw/CNN.ipynb#X14sZmlsZQ%3D%3D?line=6'>7</a>\u001b[0m                 save_freq\u001b[39m=\u001b[39m\u001b[39m'\u001b[39m\u001b[39mepoch\u001b[39m\u001b[39m'\u001b[39m)\n\u001b[0;32m      <a href='vscode-notebook-cell:/c%3A/Users/USER/Desktop/ML/ML_QuickDraw/CNN.ipynb#X14sZmlsZQ%3D%3D?line=8'>9</a>\u001b[0m callbacks \u001b[39m=\u001b[39m [\n\u001b[0;32m     <a href='vscode-notebook-cell:/c%3A/Users/USER/Desktop/ML/ML_QuickDraw/CNN.ipynb#X14sZmlsZQ%3D%3D?line=9'>10</a>\u001b[0m     EarlyStopping(monitor\u001b[39m=\u001b[39m\u001b[39m'\u001b[39m\u001b[39mval_categorical_accuracy\u001b[39m\u001b[39m'\u001b[39m, patience\u001b[39m=\u001b[39m\u001b[39m7\u001b[39m, min_delta\u001b[39m=\u001b[39m\u001b[39m0.001\u001b[39m, mode\u001b[39m=\u001b[39m\u001b[39m'\u001b[39m\u001b[39mmax\u001b[39m\u001b[39m'\u001b[39m),\n\u001b[0;32m     <a href='vscode-notebook-cell:/c%3A/Users/USER/Desktop/ML/ML_QuickDraw/CNN.ipynb#X14sZmlsZQ%3D%3D?line=10'>11</a>\u001b[0m     ReduceLROnPlateau(monitor\u001b[39m=\u001b[39m\u001b[39m'\u001b[39m\u001b[39mval_categorical_accuracy\u001b[39m\u001b[39m'\u001b[39m, factor\u001b[39m=\u001b[39m\u001b[39m0.5\u001b[39m, patience\u001b[39m=\u001b[39m\u001b[39m5\u001b[39m, min_delta\u001b[39m=\u001b[39m\u001b[39m0.005\u001b[39m, mode\u001b[39m=\u001b[39m\u001b[39m'\u001b[39m\u001b[39mmax\u001b[39m\u001b[39m'\u001b[39m, cooldown\u001b[39m=\u001b[39m\u001b[39m3\u001b[39m),\n\u001b[0;32m     <a href='vscode-notebook-cell:/c%3A/Users/USER/Desktop/ML/ML_QuickDraw/CNN.ipynb#X14sZmlsZQ%3D%3D?line=11'>12</a>\u001b[0m     callbacks_chpt\n\u001b[0;32m     <a href='vscode-notebook-cell:/c%3A/Users/USER/Desktop/ML/ML_QuickDraw/CNN.ipynb#X14sZmlsZQ%3D%3D?line=12'>13</a>\u001b[0m ]\n\u001b[1;32m---> <a href='vscode-notebook-cell:/c%3A/Users/USER/Desktop/ML/ML_QuickDraw/CNN.ipynb#X14sZmlsZQ%3D%3D?line=14'>15</a>\u001b[0m hist \u001b[39m=\u001b[39m model\u001b[39m.\u001b[39;49mfit(\n\u001b[0;32m     <a href='vscode-notebook-cell:/c%3A/Users/USER/Desktop/ML/ML_QuickDraw/CNN.ipynb#X14sZmlsZQ%3D%3D?line=15'>16</a>\u001b[0m     train_datagen, steps_per_epoch\u001b[39m=\u001b[39;49mSTEPS_P_EPOCH, epochs\u001b[39m=\u001b[39;49mEPOCHS, verbose\u001b[39m=\u001b[39;49m\u001b[39m1\u001b[39;49m,\n\u001b[0;32m     <a href='vscode-notebook-cell:/c%3A/Users/USER/Desktop/ML/ML_QuickDraw/CNN.ipynb#X14sZmlsZQ%3D%3D?line=16'>17</a>\u001b[0m     validation_data\u001b[39m=\u001b[39;49m(x_valid, y_valid),\n\u001b[0;32m     <a href='vscode-notebook-cell:/c%3A/Users/USER/Desktop/ML/ML_QuickDraw/CNN.ipynb#X14sZmlsZQ%3D%3D?line=17'>18</a>\u001b[0m     callbacks \u001b[39m=\u001b[39;49m callbacks\n\u001b[0;32m     <a href='vscode-notebook-cell:/c%3A/Users/USER/Desktop/ML/ML_QuickDraw/CNN.ipynb#X14sZmlsZQ%3D%3D?line=18'>19</a>\u001b[0m )\n",
      "File \u001b[1;32mc:\\ProgramData\\anaconda3\\envs\\NuEdgeWise_env\\lib\\site-packages\\keras\\utils\\traceback_utils.py:65\u001b[0m, in \u001b[0;36mfilter_traceback.<locals>.error_handler\u001b[1;34m(*args, **kwargs)\u001b[0m\n\u001b[0;32m     63\u001b[0m filtered_tb \u001b[39m=\u001b[39m \u001b[39mNone\u001b[39;00m\n\u001b[0;32m     64\u001b[0m \u001b[39mtry\u001b[39;00m:\n\u001b[1;32m---> 65\u001b[0m     \u001b[39mreturn\u001b[39;00m fn(\u001b[39m*\u001b[39;49margs, \u001b[39m*\u001b[39;49m\u001b[39m*\u001b[39;49mkwargs)\n\u001b[0;32m     66\u001b[0m \u001b[39mexcept\u001b[39;00m \u001b[39mException\u001b[39;00m \u001b[39mas\u001b[39;00m e:\n\u001b[0;32m     67\u001b[0m     filtered_tb \u001b[39m=\u001b[39m _process_traceback_frames(e\u001b[39m.\u001b[39m__traceback__)\n",
      "File \u001b[1;32mc:\\ProgramData\\anaconda3\\envs\\NuEdgeWise_env\\lib\\site-packages\\keras\\engine\\training.py:1564\u001b[0m, in \u001b[0;36mModel.fit\u001b[1;34m(self, x, y, batch_size, epochs, verbose, callbacks, validation_split, validation_data, shuffle, class_weight, sample_weight, initial_epoch, steps_per_epoch, validation_steps, validation_batch_size, validation_freq, max_queue_size, workers, use_multiprocessing)\u001b[0m\n\u001b[0;32m   1556\u001b[0m \u001b[39mwith\u001b[39;00m tf\u001b[39m.\u001b[39mprofiler\u001b[39m.\u001b[39mexperimental\u001b[39m.\u001b[39mTrace(\n\u001b[0;32m   1557\u001b[0m     \u001b[39m\"\u001b[39m\u001b[39mtrain\u001b[39m\u001b[39m\"\u001b[39m,\n\u001b[0;32m   1558\u001b[0m     epoch_num\u001b[39m=\u001b[39mepoch,\n\u001b[1;32m   (...)\u001b[0m\n\u001b[0;32m   1561\u001b[0m     _r\u001b[39m=\u001b[39m\u001b[39m1\u001b[39m,\n\u001b[0;32m   1562\u001b[0m ):\n\u001b[0;32m   1563\u001b[0m     callbacks\u001b[39m.\u001b[39mon_train_batch_begin(step)\n\u001b[1;32m-> 1564\u001b[0m     tmp_logs \u001b[39m=\u001b[39m \u001b[39mself\u001b[39;49m\u001b[39m.\u001b[39;49mtrain_function(iterator)\n\u001b[0;32m   1565\u001b[0m     \u001b[39mif\u001b[39;00m data_handler\u001b[39m.\u001b[39mshould_sync:\n\u001b[0;32m   1566\u001b[0m         context\u001b[39m.\u001b[39masync_wait()\n",
      "File \u001b[1;32mc:\\ProgramData\\anaconda3\\envs\\NuEdgeWise_env\\lib\\site-packages\\tensorflow\\python\\util\\traceback_utils.py:150\u001b[0m, in \u001b[0;36mfilter_traceback.<locals>.error_handler\u001b[1;34m(*args, **kwargs)\u001b[0m\n\u001b[0;32m    148\u001b[0m filtered_tb \u001b[39m=\u001b[39m \u001b[39mNone\u001b[39;00m\n\u001b[0;32m    149\u001b[0m \u001b[39mtry\u001b[39;00m:\n\u001b[1;32m--> 150\u001b[0m   \u001b[39mreturn\u001b[39;00m fn(\u001b[39m*\u001b[39;49margs, \u001b[39m*\u001b[39;49m\u001b[39m*\u001b[39;49mkwargs)\n\u001b[0;32m    151\u001b[0m \u001b[39mexcept\u001b[39;00m \u001b[39mException\u001b[39;00m \u001b[39mas\u001b[39;00m e:\n\u001b[0;32m    152\u001b[0m   filtered_tb \u001b[39m=\u001b[39m _process_traceback_frames(e\u001b[39m.\u001b[39m__traceback__)\n",
      "File \u001b[1;32mc:\\ProgramData\\anaconda3\\envs\\NuEdgeWise_env\\lib\\site-packages\\tensorflow\\python\\eager\\def_function.py:915\u001b[0m, in \u001b[0;36mFunction.__call__\u001b[1;34m(self, *args, **kwds)\u001b[0m\n\u001b[0;32m    912\u001b[0m compiler \u001b[39m=\u001b[39m \u001b[39m\"\u001b[39m\u001b[39mxla\u001b[39m\u001b[39m\"\u001b[39m \u001b[39mif\u001b[39;00m \u001b[39mself\u001b[39m\u001b[39m.\u001b[39m_jit_compile \u001b[39melse\u001b[39;00m \u001b[39m\"\u001b[39m\u001b[39mnonXla\u001b[39m\u001b[39m\"\u001b[39m\n\u001b[0;32m    914\u001b[0m \u001b[39mwith\u001b[39;00m OptionalXlaContext(\u001b[39mself\u001b[39m\u001b[39m.\u001b[39m_jit_compile):\n\u001b[1;32m--> 915\u001b[0m   result \u001b[39m=\u001b[39m \u001b[39mself\u001b[39;49m\u001b[39m.\u001b[39;49m_call(\u001b[39m*\u001b[39;49margs, \u001b[39m*\u001b[39;49m\u001b[39m*\u001b[39;49mkwds)\n\u001b[0;32m    917\u001b[0m new_tracing_count \u001b[39m=\u001b[39m \u001b[39mself\u001b[39m\u001b[39m.\u001b[39mexperimental_get_tracing_count()\n\u001b[0;32m    918\u001b[0m without_tracing \u001b[39m=\u001b[39m (tracing_count \u001b[39m==\u001b[39m new_tracing_count)\n",
      "File \u001b[1;32mc:\\ProgramData\\anaconda3\\envs\\NuEdgeWise_env\\lib\\site-packages\\tensorflow\\python\\eager\\def_function.py:947\u001b[0m, in \u001b[0;36mFunction._call\u001b[1;34m(self, *args, **kwds)\u001b[0m\n\u001b[0;32m    944\u001b[0m   \u001b[39mself\u001b[39m\u001b[39m.\u001b[39m_lock\u001b[39m.\u001b[39mrelease()\n\u001b[0;32m    945\u001b[0m   \u001b[39m# In this case we have created variables on the first call, so we run the\u001b[39;00m\n\u001b[0;32m    946\u001b[0m   \u001b[39m# defunned version which is guaranteed to never create variables.\u001b[39;00m\n\u001b[1;32m--> 947\u001b[0m   \u001b[39mreturn\u001b[39;00m \u001b[39mself\u001b[39;49m\u001b[39m.\u001b[39;49m_stateless_fn(\u001b[39m*\u001b[39;49margs, \u001b[39m*\u001b[39;49m\u001b[39m*\u001b[39;49mkwds)  \u001b[39m# pylint: disable=not-callable\u001b[39;00m\n\u001b[0;32m    948\u001b[0m \u001b[39melif\u001b[39;00m \u001b[39mself\u001b[39m\u001b[39m.\u001b[39m_stateful_fn \u001b[39mis\u001b[39;00m \u001b[39mnot\u001b[39;00m \u001b[39mNone\u001b[39;00m:\n\u001b[0;32m    949\u001b[0m   \u001b[39m# Release the lock early so that multiple threads can perform the call\u001b[39;00m\n\u001b[0;32m    950\u001b[0m   \u001b[39m# in parallel.\u001b[39;00m\n\u001b[0;32m    951\u001b[0m   \u001b[39mself\u001b[39m\u001b[39m.\u001b[39m_lock\u001b[39m.\u001b[39mrelease()\n",
      "File \u001b[1;32mc:\\ProgramData\\anaconda3\\envs\\NuEdgeWise_env\\lib\\site-packages\\tensorflow\\python\\eager\\function.py:2496\u001b[0m, in \u001b[0;36mFunction.__call__\u001b[1;34m(self, *args, **kwargs)\u001b[0m\n\u001b[0;32m   2493\u001b[0m \u001b[39mwith\u001b[39;00m \u001b[39mself\u001b[39m\u001b[39m.\u001b[39m_lock:\n\u001b[0;32m   2494\u001b[0m   (graph_function,\n\u001b[0;32m   2495\u001b[0m    filtered_flat_args) \u001b[39m=\u001b[39m \u001b[39mself\u001b[39m\u001b[39m.\u001b[39m_maybe_define_function(args, kwargs)\n\u001b[1;32m-> 2496\u001b[0m \u001b[39mreturn\u001b[39;00m graph_function\u001b[39m.\u001b[39;49m_call_flat(\n\u001b[0;32m   2497\u001b[0m     filtered_flat_args, captured_inputs\u001b[39m=\u001b[39;49mgraph_function\u001b[39m.\u001b[39;49mcaptured_inputs)\n",
      "File \u001b[1;32mc:\\ProgramData\\anaconda3\\envs\\NuEdgeWise_env\\lib\\site-packages\\tensorflow\\python\\eager\\function.py:1862\u001b[0m, in \u001b[0;36mConcreteFunction._call_flat\u001b[1;34m(self, args, captured_inputs, cancellation_manager)\u001b[0m\n\u001b[0;32m   1858\u001b[0m possible_gradient_type \u001b[39m=\u001b[39m gradients_util\u001b[39m.\u001b[39mPossibleTapeGradientTypes(args)\n\u001b[0;32m   1859\u001b[0m \u001b[39mif\u001b[39;00m (possible_gradient_type \u001b[39m==\u001b[39m gradients_util\u001b[39m.\u001b[39mPOSSIBLE_GRADIENT_TYPES_NONE\n\u001b[0;32m   1860\u001b[0m     \u001b[39mand\u001b[39;00m executing_eagerly):\n\u001b[0;32m   1861\u001b[0m   \u001b[39m# No tape is watching; skip to running the function.\u001b[39;00m\n\u001b[1;32m-> 1862\u001b[0m   \u001b[39mreturn\u001b[39;00m \u001b[39mself\u001b[39m\u001b[39m.\u001b[39m_build_call_outputs(\u001b[39mself\u001b[39;49m\u001b[39m.\u001b[39;49m_inference_function\u001b[39m.\u001b[39;49mcall(\n\u001b[0;32m   1863\u001b[0m       ctx, args, cancellation_manager\u001b[39m=\u001b[39;49mcancellation_manager))\n\u001b[0;32m   1864\u001b[0m forward_backward \u001b[39m=\u001b[39m \u001b[39mself\u001b[39m\u001b[39m.\u001b[39m_select_forward_and_backward_functions(\n\u001b[0;32m   1865\u001b[0m     args,\n\u001b[0;32m   1866\u001b[0m     possible_gradient_type,\n\u001b[0;32m   1867\u001b[0m     executing_eagerly)\n\u001b[0;32m   1868\u001b[0m forward_function, args_with_tangents \u001b[39m=\u001b[39m forward_backward\u001b[39m.\u001b[39mforward()\n",
      "File \u001b[1;32mc:\\ProgramData\\anaconda3\\envs\\NuEdgeWise_env\\lib\\site-packages\\tensorflow\\python\\eager\\function.py:499\u001b[0m, in \u001b[0;36m_EagerDefinedFunction.call\u001b[1;34m(self, ctx, args, cancellation_manager)\u001b[0m\n\u001b[0;32m    497\u001b[0m \u001b[39mwith\u001b[39;00m _InterpolateFunctionError(\u001b[39mself\u001b[39m):\n\u001b[0;32m    498\u001b[0m   \u001b[39mif\u001b[39;00m cancellation_manager \u001b[39mis\u001b[39;00m \u001b[39mNone\u001b[39;00m:\n\u001b[1;32m--> 499\u001b[0m     outputs \u001b[39m=\u001b[39m execute\u001b[39m.\u001b[39;49mexecute(\n\u001b[0;32m    500\u001b[0m         \u001b[39mstr\u001b[39;49m(\u001b[39mself\u001b[39;49m\u001b[39m.\u001b[39;49msignature\u001b[39m.\u001b[39;49mname),\n\u001b[0;32m    501\u001b[0m         num_outputs\u001b[39m=\u001b[39;49m\u001b[39mself\u001b[39;49m\u001b[39m.\u001b[39;49m_num_outputs,\n\u001b[0;32m    502\u001b[0m         inputs\u001b[39m=\u001b[39;49margs,\n\u001b[0;32m    503\u001b[0m         attrs\u001b[39m=\u001b[39;49mattrs,\n\u001b[0;32m    504\u001b[0m         ctx\u001b[39m=\u001b[39;49mctx)\n\u001b[0;32m    505\u001b[0m   \u001b[39melse\u001b[39;00m:\n\u001b[0;32m    506\u001b[0m     outputs \u001b[39m=\u001b[39m execute\u001b[39m.\u001b[39mexecute_with_cancellation(\n\u001b[0;32m    507\u001b[0m         \u001b[39mstr\u001b[39m(\u001b[39mself\u001b[39m\u001b[39m.\u001b[39msignature\u001b[39m.\u001b[39mname),\n\u001b[0;32m    508\u001b[0m         num_outputs\u001b[39m=\u001b[39m\u001b[39mself\u001b[39m\u001b[39m.\u001b[39m_num_outputs,\n\u001b[1;32m   (...)\u001b[0m\n\u001b[0;32m    511\u001b[0m         ctx\u001b[39m=\u001b[39mctx,\n\u001b[0;32m    512\u001b[0m         cancellation_manager\u001b[39m=\u001b[39mcancellation_manager)\n",
      "File \u001b[1;32mc:\\ProgramData\\anaconda3\\envs\\NuEdgeWise_env\\lib\\site-packages\\tensorflow\\python\\eager\\execute.py:54\u001b[0m, in \u001b[0;36mquick_execute\u001b[1;34m(op_name, num_outputs, inputs, attrs, ctx, name)\u001b[0m\n\u001b[0;32m     52\u001b[0m \u001b[39mtry\u001b[39;00m:\n\u001b[0;32m     53\u001b[0m   ctx\u001b[39m.\u001b[39mensure_initialized()\n\u001b[1;32m---> 54\u001b[0m   tensors \u001b[39m=\u001b[39m pywrap_tfe\u001b[39m.\u001b[39;49mTFE_Py_Execute(ctx\u001b[39m.\u001b[39;49m_handle, device_name, op_name,\n\u001b[0;32m     55\u001b[0m                                       inputs, attrs, num_outputs)\n\u001b[0;32m     56\u001b[0m \u001b[39mexcept\u001b[39;00m core\u001b[39m.\u001b[39m_NotOkStatusException \u001b[39mas\u001b[39;00m e:\n\u001b[0;32m     57\u001b[0m   \u001b[39mif\u001b[39;00m name \u001b[39mis\u001b[39;00m \u001b[39mnot\u001b[39;00m \u001b[39mNone\u001b[39;00m:\n",
      "\u001b[1;31mKeyboardInterrupt\u001b[0m: "
     ]
    }
   ],
   "source": [
    "callbacks_chpt = tf.keras.callbacks.ModelCheckpoint(\n",
    "                filepath=(os.path.join(WORK_DIR, 'checkpoint', '{val_categorical_accuracy:.3f}_best_val.ckpt')),\n",
    "                save_weights_only=True, \n",
    "                monitor='val_categorical_accuracy',\n",
    "                mode = 'max',\n",
    "                save_best_only=True, \n",
    "                save_freq='epoch')\n",
    "\n",
    "callbacks = [\n",
    "    EarlyStopping(monitor='val_categorical_accuracy', patience=15, min_delta=0.001, mode='max'),\n",
    "    ReduceLROnPlateau(monitor='val_categorical_accuracy', factor=0.5, patience=5, min_delta=0.005, mode='max', cooldown=3),\n",
    "    callbacks_chpt\n",
    "]\n",
    "\n",
    "hists = []\n",
    "hist = model.fit(\n",
    "    train_datagen, steps_per_epoch=STEPS_P_EPOCH, epochs=EPOCHS, verbose=1,\n",
    "    validation_data=(x_valid, y_valid),\n",
    "    callbacks = callbacks\n",
    ")\n",
    "hists.append(hist)"
   ]
  },
  {
   "cell_type": "code",
   "execution_count": 11,
   "metadata": {},
   "outputs": [
    {
     "data": {
      "image/png": "[encoded data removed]",
      "text/plain": [
       "<Figure size 1600x1000 with 2 Axes>"
      ]
     },
     "metadata": {},
     "output_type": "display_data"
    }
   ],
   "source": [
    "hist_df = pd.concat([pd.DataFrame(hist.history) for hist in hists], sort=True)\n",
    "hist_df.index = np.arange(1, len(hist_df)+1)\n",
    "fig, axs = plt.subplots(nrows=2, sharex=True, figsize=(16, 10))\n",
    "axs[0].plot(hist_df.val_categorical_accuracy, lw=5, label='Validation Accuracy')\n",
    "axs[0].plot(hist_df.categorical_accuracy, lw=5, label='Training Accuracy')\n",
    "axs[0].set_ylabel('Accuracy')\n",
    "axs[0].set_xlabel('Epoch')\n",
    "axs[0].grid()\n",
    "axs[0].legend(loc=0)\n",
    "axs[1].plot(hist_df.val_categorical_crossentropy, lw=5, label='Validation MLogLoss')\n",
    "axs[1].plot(hist_df.categorical_crossentropy, lw=5, label='Training MLogLoss')\n",
    "axs[1].set_ylabel('MLogLoss')\n",
    "axs[1].set_xlabel('Epoch')\n",
    "axs[1].grid()\n",
    "axs[1].legend(loc=0)\n",
    "fig.savefig('hist.png', dpi=300)\n",
    "plt.show();"
   ]
  },
  {
   "cell_type": "code",
   "execution_count": 7,
   "metadata": {},
   "outputs": [],
   "source": [
    "def apk(actual, predicted, k=3):\n",
    "    \"\"\"\n",
    "    Source: https://github.com/benhamner/Metrics/blob/master/Python/ml_metrics/average_precision.py\n",
    "    \"\"\"\n",
    "    if len(predicted) > k:\n",
    "        predicted = predicted[:k]\n",
    "\n",
    "    score = 0.0\n",
    "    num_hits = 0.0\n",
    "\n",
    "    for i, p in enumerate(predicted):\n",
    "        if p in actual and p not in predicted[:i]:\n",
    "            num_hits += 1.0\n",
    "            score += num_hits / (i + 1.0)\n",
    "\n",
    "    if not actual:\n",
    "        return 0.0\n",
    "\n",
    "    return score / min(len(actual), k)\n",
    "\n",
    "def mapk(actual, predicted, k=3):\n",
    "    \"\"\"\n",
    "    Source: https://github.com/benhamner/Metrics/blob/master/Python/ml_metrics/average_precision.py\n",
    "    \"\"\"\n",
    "    return np.mean([apk(a, p, k) for a, p in zip(actual, predicted)])\n",
    "\n",
    "\n",
    "def preds2catIdx(predictions):\n",
    "    return pd.DataFrame(np.argsort(-predictions, axis=1)[:, :3], columns=['a', 'b', 'c'])\n",
    "\n",
    "def top3_acc( tgt, pred ):\n",
    "    sc = np.mean( (pred[:,0]==tgt) | (pred[:,1]==tgt) | (pred[:,2]==tgt) )\n",
    "    return sc\n",
    "\n",
    "def top1_acc( tgt, pred ):\n",
    "    sc = np.mean( (pred[:,0]==tgt))\n",
    "    return sc"
   ]
  },
  {
   "cell_type": "code",
   "execution_count": 8,
   "metadata": {},
   "outputs": [
    {
     "ename": "NameError",
     "evalue": "name 'model' is not defined",
     "output_type": "error",
     "traceback": [
      "\u001b[1;31m---------------------------------------------------------------------------\u001b[0m",
      "\u001b[1;31mNameError\u001b[0m                                 Traceback (most recent call last)",
      "\u001b[1;32mc:\\Users\\USER\\Desktop\\ML\\ML_QuickDraw\\CNN.ipynb Cell 16\u001b[0m in \u001b[0;36m<cell line: 2>\u001b[1;34m()\u001b[0m\n\u001b[0;32m      <a href='vscode-notebook-cell:/c%3A/Users/USER/Desktop/ML/ML_QuickDraw/CNN.ipynb#X16sZmlsZQ%3D%3D?line=0'>1</a>\u001b[0m \u001b[39m# Map3: 按照排名給分，第一名hit=>1, 第二名hit=>1/2, 第三名hit=>1/3 以此類推\u001b[39;00m\n\u001b[1;32m----> <a href='vscode-notebook-cell:/c%3A/Users/USER/Desktop/ML/ML_QuickDraw/CNN.ipynb#X16sZmlsZQ%3D%3D?line=1'>2</a>\u001b[0m valid_predictions \u001b[39m=\u001b[39m model\u001b[39m.\u001b[39mpredict(x_valid, batch_size\u001b[39m=\u001b[39m\u001b[39m128\u001b[39m, verbose\u001b[39m=\u001b[39m\u001b[39m1\u001b[39m)\n\u001b[0;32m      <a href='vscode-notebook-cell:/c%3A/Users/USER/Desktop/ML/ML_QuickDraw/CNN.ipynb#X16sZmlsZQ%3D%3D?line=2'>3</a>\u001b[0m map3 \u001b[39m=\u001b[39m mapk(valid_df[[\u001b[39m'\u001b[39m\u001b[39my\u001b[39m\u001b[39m'\u001b[39m]]\u001b[39m.\u001b[39mvalues, preds2catIdx(valid_predictions)\u001b[39m.\u001b[39mvalues)\n\u001b[0;32m      <a href='vscode-notebook-cell:/c%3A/Users/USER/Desktop/ML/ML_QuickDraw/CNN.ipynb#X16sZmlsZQ%3D%3D?line=3'>4</a>\u001b[0m top1 \u001b[39m=\u001b[39m top1_acc(valid_df[[\u001b[39m'\u001b[39m\u001b[39my\u001b[39m\u001b[39m'\u001b[39m]]\u001b[39m.\u001b[39mvalues\u001b[39m.\u001b[39mflatten(), preds2catIdx(valid_predictions)\u001b[39m.\u001b[39mvalues)\n",
      "\u001b[1;31mNameError\u001b[0m: name 'model' is not defined"
     ]
    }
   ],
   "source": [
    "# Map3: 按照排名給分，第一名hit=>1, 第二名hit=>1/2, 第三名hit=>1/3 以此類推\n",
    "valid_predictions = model.predict(x_valid, batch_size=128, verbose=1)\n",
    "map3 = mapk(valid_df[['y']].values, preds2catIdx(valid_predictions).values)\n",
    "top1 = top1_acc(valid_df[['y']].values.flatten(), preds2catIdx(valid_predictions).values)\n",
    "top3 = top3_acc(valid_df[['y']].values.flatten(), preds2catIdx(valid_predictions).values)\n",
    "print('Top1 Accuracy: {:.3f}'.format(top1))\n",
    "print('Top3 Accuracy: {:.3f}'.format(top3))\n",
    "print('Map3: {:.3f}'.format(map3))"
   ]
  },
  {
   "cell_type": "markdown",
   "metadata": {},
   "source": [
    "## Save the model"
   ]
  },
  {
   "cell_type": "code",
   "execution_count": 62,
   "metadata": {},
   "outputs": [
    {
     "name": "stderr",
     "output_type": "stream",
     "text": [
      "WARNING:absl:Found untraced functions such as _jit_compiled_convolution_op, _jit_compiled_convolution_op while saving (showing 2 of 2). These functions will not be directly callable after loading.\n"
     ]
    },
    {
     "name": "stdout",
     "output_type": "stream",
     "text": [
      "INFO:tensorflow:Assets written to: ./workspace/340_CNN\\CNN_340_30k\\assets\n"
     ]
    },
    {
     "name": "stderr",
     "output_type": "stream",
     "text": [
      "INFO:tensorflow:Assets written to: ./workspace/340_CNN\\CNN_340_30k\\assets\n"
     ]
    }
   ],
   "source": [
    "model.save(os.path.join(WORK_DIR, MODEL_NAME))\n",
    "#tf.keras.models.save_model(model, os.path.join(WORK_DIR, MODEL_NAME))"
   ]
  },
  {
   "cell_type": "markdown",
   "metadata": {},
   "source": [
    "## Convert to tflite\n",
    "- Include quantization and offer normal, dynamic quantization, float16 quantization and int8 quantization tflite."
   ]
  },
  {
   "cell_type": "code",
   "execution_count": 103,
   "metadata": {},
   "outputs": [],
   "source": [
    "def convert2tflite(custom_model_path, output_tflite_location, rep_dataset, rep_batch):\n",
    "      \n",
    "      def representative_dataset():\n",
    "        \n",
    "        for img in rep_dataset[0:rep_batch]:\n",
    "            \n",
    "            image = tf.expand_dims(img, axis=0)\n",
    "            #image = tf.dtypes.cast(image, tf.float32) \n",
    "            yield [image]\n",
    "      \n",
    "      # load the keras model and the custom op.\n",
    "      custom_model = keras.models.load_model(os.path.join(WORK_DIR, MODEL_NAME), custom_objects={'top_3_accuracy':top_3_accuracy})\n",
    "\n",
    "      # normal tflite\n",
    "      converter = tf.lite.TFLiteConverter.from_keras_model(custom_model)\n",
    "      tflite_model = converter.convert()\n",
    "      output_location = os.path.join(output_tflite_location, (MODEL_NAME + r'.tflite'))\n",
    "      with open(output_location, 'wb') as f:\n",
    "            f.write(tflite_model)\n",
    "      print(\"The tflite output location: {}\".format(output_location)) \n",
    "      \n",
    "      # dynamic tflite\n",
    "      converter = tf.lite.TFLiteConverter.from_keras_model(custom_model)\n",
    "      converter.optimizations = [tf.lite.Optimize.DEFAULT]\n",
    "      tflite_model = converter.convert()\n",
    "      output_location = os.path.join(output_tflite_location, (MODEL_NAME + r'_dyquant.tflite'))\n",
    "      with open(output_location, 'wb') as f:\n",
    "            f.write(tflite_model)\n",
    "      print(\"The tflite output location: {}\".format(output_location))\n",
    "      \n",
    "      # int8 Full tflite\n",
    "      converter = tf.lite.TFLiteConverter.from_keras_model(custom_model)\n",
    "      converter.optimizations = [tf.lite.Optimize.DEFAULT]\n",
    "      converter.target_spec.supported_ops = [tf.lite.OpsSet.TFLITE_BUILTINS_INT8, tf.lite.OpsSet.TFLITE_BUILTINS]\n",
    "      converter.representative_dataset = representative_dataset\n",
    "      converter.inference_input_type = tf.int8  # or tf.uint8\n",
    "      converter.inference_output_type = tf.int8  # or tf.uint8\n",
    "      tflite_model = converter.convert()\n",
    "      output_location = os.path.join(output_tflite_location, (MODEL_NAME + r'_int8quant.tflite'))\n",
    "      with open(output_location, 'wb') as f:\n",
    "            f.write(tflite_model)\n",
    "      print(\"The tflite output location: {}\".format(output_location)) \n",
    "      \n",
    "      # f16 tflite\n",
    "      converter = tf.lite.TFLiteConverter.from_keras_model(custom_model)\n",
    "      converter.optimizations = [tf.lite.Optimize.DEFAULT]\n",
    "      converter.target_spec.supported_types = [tf.float16]\n",
    "      #converter.representative_dataset = representative_dataset\n",
    "      tflite_model = converter.convert()\n",
    "      output_location = os.path.join(output_tflite_location, (MODEL_NAME + r'_f16quant.tflite'))\n",
    "      with open(output_location, 'wb') as f:\n",
    "            f.write(tflite_model)\n",
    "      print(\"The tflite output location: {}\".format(output_location))"
   ]
  },
  {
   "cell_type": "code",
   "execution_count": 104,
   "metadata": {},
   "outputs": [
    {
     "name": "stderr",
     "output_type": "stream",
     "text": [
      "WARNING:absl:Found untraced functions such as _jit_compiled_convolution_op, _jit_compiled_convolution_op while saving (showing 2 of 2). These functions will not be directly callable after loading.\n"
     ]
    },
    {
     "name": "stdout",
     "output_type": "stream",
     "text": [
      "INFO:tensorflow:Assets written to: C:\\Users\\USER\\AppData\\Local\\Temp\\tmptrjcc_u5\\assets\n"
     ]
    },
    {
     "name": "stderr",
     "output_type": "stream",
     "text": [
      "INFO:tensorflow:Assets written to: C:\\Users\\USER\\AppData\\Local\\Temp\\tmptrjcc_u5\\assets\n"
     ]
    },
    {
     "name": "stdout",
     "output_type": "stream",
     "text": [
      "The tflite output location: ./workspace/340_CNN\\tflite\\CNN_340_30k.tflite\n"
     ]
    },
    {
     "name": "stderr",
     "output_type": "stream",
     "text": [
      "WARNING:absl:Found untraced functions such as _jit_compiled_convolution_op, _jit_compiled_convolution_op while saving (showing 2 of 2). These functions will not be directly callable after loading.\n"
     ]
    },
    {
     "name": "stdout",
     "output_type": "stream",
     "text": [
      "INFO:tensorflow:Assets written to: C:\\Users\\USER\\AppData\\Local\\Temp\\tmptchmlgfp\\assets\n"
     ]
    },
    {
     "name": "stderr",
     "output_type": "stream",
     "text": [
      "INFO:tensorflow:Assets written to: C:\\Users\\USER\\AppData\\Local\\Temp\\tmptchmlgfp\\assets\n"
     ]
    },
    {
     "name": "stdout",
     "output_type": "stream",
     "text": [
      "The tflite output location: ./workspace/340_CNN\\tflite\\CNN_340_30k_dyquant.tflite\n"
     ]
    },
    {
     "name": "stderr",
     "output_type": "stream",
     "text": [
      "WARNING:absl:Found untraced functions such as _jit_compiled_convolution_op, _jit_compiled_convolution_op while saving (showing 2 of 2). These functions will not be directly callable after loading.\n"
     ]
    },
    {
     "name": "stdout",
     "output_type": "stream",
     "text": [
      "INFO:tensorflow:Assets written to: C:\\Users\\USER\\AppData\\Local\\Temp\\tmp62d05_kh\\assets\n"
     ]
    },
    {
     "name": "stderr",
     "output_type": "stream",
     "text": [
      "INFO:tensorflow:Assets written to: C:\\Users\\USER\\AppData\\Local\\Temp\\tmp62d05_kh\\assets\n",
      "c:\\ProgramData\\anaconda3\\envs\\NuEdgeWise_env\\lib\\site-packages\\tensorflow\\lite\\python\\convert.py:766: UserWarning: Statistics for quantized inputs were expected, but not specified; continuing anyway.\n",
      "  warnings.warn(\"Statistics for quantized inputs were expected, but not \"\n"
     ]
    },
    {
     "name": "stdout",
     "output_type": "stream",
     "text": [
      "The tflite output location: ./workspace/340_CNN\\tflite\\CNN_340_30k_int8quant.tflite\n"
     ]
    },
    {
     "name": "stderr",
     "output_type": "stream",
     "text": [
      "WARNING:absl:Found untraced functions such as _jit_compiled_convolution_op, _jit_compiled_convolution_op while saving (showing 2 of 2). These functions will not be directly callable after loading.\n"
     ]
    },
    {
     "name": "stdout",
     "output_type": "stream",
     "text": [
      "INFO:tensorflow:Assets written to: C:\\Users\\USER\\AppData\\Local\\Temp\\tmp2v4f5hth\\assets\n"
     ]
    },
    {
     "name": "stderr",
     "output_type": "stream",
     "text": [
      "INFO:tensorflow:Assets written to: C:\\Users\\USER\\AppData\\Local\\Temp\\tmp2v4f5hth\\assets\n"
     ]
    },
    {
     "name": "stdout",
     "output_type": "stream",
     "text": [
      "The tflite output location: ./workspace/340_CNN\\tflite\\CNN_340_30k_f16quant.tflite\n"
     ]
    }
   ],
   "source": [
    "convert2tflite(os.path.join(WORK_DIR, MODEL_NAME), os.path.join(WORK_DIR, 'tflite'), x_valid, 256)"
   ]
  },
  {
   "cell_type": "markdown",
   "metadata": {},
   "source": [
    "## Test the tflite to make sure the accuracy. "
   ]
  },
  {
   "cell_type": "code",
   "execution_count": 38,
   "metadata": {},
   "outputs": [],
   "source": [
    "from tqdm import tqdm\n",
    "def tflite_inference(rep_dataset, rep_dataset_y, tflite_path, batch_N):\n",
    "      \"\"\"Call forwards pass of TFLite file and returns the result.\n",
    "  \n",
    "      Args:\n",
    "          input_data: Input data to use on forward pass.\n",
    "          tflite_path: Path to TFLite file to run.\n",
    "  \n",
    "      Returns:\n",
    "          Output from inference.\n",
    "      \"\"\"\n",
    "\n",
    "      interpreter = tf.lite.Interpreter(model_path=tflite_path)\n",
    "      \n",
    "  \n",
    "      input_details = interpreter.get_input_details()\n",
    "      output_details = interpreter.get_output_details()\n",
    "  \n",
    "      input_dtype = input_details[0][\"dtype\"]\n",
    "      output_dtype = output_details[0][\"dtype\"]\n",
    "\n",
    "      input_shape = input_details[0]['shape']\n",
    "      output_shape = output_details[0]['shape']\n",
    "      interpreter.resize_tensor_input(input_details[0]['index'], [batch_N, input_shape[1], input_shape[2], input_shape[3]])\n",
    "      interpreter.resize_tensor_input(output_details[0]['index'], [batch_N, output_shape[1]])\n",
    "\n",
    "      interpreter.allocate_tensors()\n",
    "  \n",
    "      # Check if the input/output type is quantized,\n",
    "      # set scale and zero-point accordingly\n",
    "      if input_dtype == np.int8:\n",
    "          input_scale, input_zero_point = input_details[0][\"quantization\"]\n",
    "\n",
    "          rep_dataset = np.round(rep_dataset/input_scale + input_zero_point)\n",
    "\n",
    "      else:\n",
    "          #input_scale, input_zero_point = 1, 0\n",
    "          input_scale, input_zero_point = input_details[0][\"quantization\"]\n",
    "  \n",
    "      if input_dtype == np.int8:\n",
    "          output_scale, output_zero_point = output_details[0][\"quantization\"]\n",
    "      else:\n",
    "          output_scale, output_zero_point = 1, 0\n",
    "      \n",
    "      # skip the final set < batch_N, bcs the input/output tensor are fix. \n",
    "      loop_num = (int)(np.floor(len(rep_dataset)/batch_N))  \n",
    "      \n",
    "      acy_all  = 0\n",
    "      acy_top3 = 0\n",
    "      for i in tqdm(range(loop_num)):\n",
    "          #if i == (loop_num - 1):\n",
    "          #    input_batch = rep_dataset[i*batch_N:-1]\n",
    "          #else:\n",
    "          input_batch = rep_dataset[i*batch_N:(i+1)*batch_N]\n",
    "\n",
    "          interpreter.set_tensor(input_details[0]['index'], tf.cast(input_batch, input_dtype))\n",
    "          interpreter.invoke()\n",
    "          output_data = interpreter.get_tensor(output_details[0]['index'])\n",
    "          output_data = output_scale * (output_data.astype(np.float32) - output_zero_point)\n",
    "          #print(preds2catIdx(output_data).shape)\n",
    "          acy_all += top1_acc(valid_df[['y']][i*batch_N:(i+1)*batch_N].values.flatten(), preds2catIdx(output_data).values)\n",
    "          acy_top3 += top3_acc(rep_dataset_y[['y']][i*batch_N:(i+1)*batch_N].values.flatten(), preds2catIdx(output_data).values)\n",
    "          #print('Top3 Accuracy: {:.3f}'.format(top3))\n",
    "\n",
    "      return   acy_all/loop_num, acy_top3/loop_num\n",
    "\n",
    "      \n",
    "\n",
    "      \n",
    "    \n"
   ]
  },
  {
   "cell_type": "code",
   "execution_count": 40,
   "metadata": {},
   "outputs": [
    {
     "name": "stderr",
     "output_type": "stream",
     "text": [
      "100%|██████████| 195/195 [3:01:53<00:00, 55.96s/it]  \n"
     ]
    }
   ],
   "source": [
    "top1, top3 = tflite_inference(x_valid[0:-1], valid_df[['y']][0:-1], os.path.join(WORK_DIR, 'tflite', (MODEL_NAME + r'_int8quant.tflite')), 512) "
   ]
  },
  {
   "cell_type": "code",
   "execution_count": 41,
   "metadata": {},
   "outputs": [
    {
     "name": "stdout",
     "output_type": "stream",
     "text": [
      "Top1 Accuracy: 0.681\n",
      "Top3 Accuracy: 0.845\n"
     ]
    }
   ],
   "source": [
    "print('Top1 Accuracy: {:.3f}'.format(top1))\n",
    "print('Top3 Accuracy: {:.3f}'.format(top3))  "
   ]
  },
  {
   "cell_type": "code",
   "execution_count": null,
   "metadata": {},
   "outputs": [],
   "source": []
  }
 ],
 "metadata": {
  "kernelspec": {
   "display_name": "NuEdgeWise_env",
   "language": "python",
   "name": "python3"
  },
  "language_info": {
   "codemirror_mode": {
    "name": "ipython",
    "version": 3
   },
   "file_extension": ".py",
   "mimetype": "text/x-python",
   "name": "python",
   "nbconvert_exporter": "python",
   "pygments_lexer": "ipython3",
   "version": "3.8.13"
  },
  "orig_nbformat": 4
 },
 "nbformat": 4,
 "nbformat_minor": 2
}
