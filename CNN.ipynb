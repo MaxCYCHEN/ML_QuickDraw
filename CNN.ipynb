{
 "cells": [
  {
   "cell_type": "markdown",
   "metadata": {},
   "source": [
    "# CNN Quick Drew Example\n",
    "- This notebook show you to load dataset, train mobilenet, test the model and convert to tflite for deployment on nuvoTon target board.\n",
    "- Please follow the step by step and you could change the parameters for exploring the possibility.  "
   ]
  },
  {
   "cell_type": "code",
   "execution_count": 1,
   "metadata": {},
   "outputs": [],
   "source": [
    "%matplotlib inline\n",
    "#from IPython.core.interactiveshell import InteractiveShell\n",
    "#InteractiveShell.ast_node_interactivity = \"all\"\n",
    "import os\n",
    "import sys\n",
    "import ast\n",
    "import re\n",
    "import pathlib\n",
    "import datetime as dt\n",
    "import matplotlib.pyplot as plt\n",
    "plt.rcParams['figure.figsize'] = [16, 10]\n",
    "plt.rcParams['font.size'] = 14\n",
    "import seaborn as sns\n",
    "import cv2\n",
    "import pandas as pd\n",
    "import numpy as np\n",
    "import tensorflow as tf\n",
    "from tensorflow import keras\n",
    "from tensorflow.keras.layers import Conv2D, MaxPooling2D, DepthwiseConv2D\n",
    "from tensorflow.keras.layers import Dense, Dropout, Flatten, Activation, BatchNormalization, ReLU, GlobalAveragePooling2D \n",
    "from tensorflow.keras.metrics import categorical_accuracy, top_k_categorical_accuracy, categorical_crossentropy\n",
    "from tensorflow.keras.models import Sequential\n",
    "from tensorflow.keras.callbacks import EarlyStopping, ReduceLROnPlateau\n",
    "from tensorflow.keras.optimizers import Adam\n",
    "start = dt.datetime.now()"
   ]
  },
  {
   "cell_type": "code",
   "execution_count": 2,
   "metadata": {},
   "outputs": [
    {
     "name": "stdout",
     "output_type": "stream",
     "text": [
      "Work folder exist!\n"
     ]
    },
    {
     "data": {
      "text/plain": [
       "'./workspace/340_all_CNN_NEW'"
      ]
     },
     "execution_count": 2,
     "metadata": {},
     "output_type": "execute_result"
    }
   ],
   "source": [
    "DP_DIR = './dataset/train_simplified_all_shuffle' # The shuffled dataset\n",
    "INPUT_DIR = './dataset/train_simplified'          # The original dataset with label in file's name\n",
    "BASE_IMG_SIZE = 256                               # The original image's pixel size.\n",
    "NUM_CSVS = 100                                    # The total shuffled fcsv files.\n",
    "NUM_CATS = 340                                    # The classes number\n",
    "\n",
    "WORK_DIR = './workspace/340_all_CNN_NEW'     # The user defined name of work dir\n",
    "MODEL_NAME = 'CNN_340_all'                        # The output model's name\n",
    "\n",
    "STEPS_P_EPOCH = 700                               # For trining, how many steps per epoch \n",
    "INPUT_IMG_SIZE = 32                               # The size of training input image\n",
    "BATCHSIZE = 512                                   # For train data generator's batchsize => train data number every 1 epoch = STEPS_P_EPOCH * BATCHSIZE\n",
    "\n",
    "EPOCHS = 50                                      # How many EPOCHS for 1 training.\n",
    "\n",
    "MODEL_TYPE = 'cnn'                                # 'cnn', 'ds-cnn'\n",
    "\n",
    "np.random.seed(seed=1987)\n",
    "#tf.set_random_seed(seed=1987)\n",
    "\n",
    "def f2cat(filename: str) -> str:\n",
    "    return filename.split('.')[0]\n",
    "\n",
    "def list_all_categories():\n",
    "    files = os.listdir(INPUT_DIR)\n",
    "    return sorted([f2cat(f) for f in files], key=str.lower)\n",
    "\n",
    "def create_dirs(proj_path, model_name): \n",
    "    if not os.path.exists(proj_path):\n",
    "        os.makedirs(proj_path)\n",
    "        os.makedirs(os.path.join(proj_path, model_name))\n",
    "        os.makedirs(os.path.join(proj_path, 'tflite'))\n",
    "        os.makedirs(os.path.join(proj_path, 'checkpoint'))\n",
    "    else:\n",
    "        print('Work folder exist!')    \n",
    "    return proj_path\n",
    "\n",
    "create_dirs(WORK_DIR, MODEL_NAME)    "
   ]
  },
  {
   "cell_type": "markdown",
   "metadata": {},
   "source": [
    "## 1. Create Image Generator for training and the validation dataset"
   ]
  },
  {
   "cell_type": "code",
   "execution_count": 3,
   "metadata": {},
   "outputs": [],
   "source": [
    "def draw_cv2(raw_strokes, size=256, lw=6):\n",
    "    img = np.zeros((BASE_IMG_SIZE, BASE_IMG_SIZE), np.uint8)\n",
    "    for stroke in raw_strokes:\n",
    "        for i in range(len(stroke[0]) - 1):\n",
    "            _ = cv2.line(img, (stroke[0][i], stroke[1][i]), (stroke[0][i + 1], stroke[1][i + 1]), 255, lw)\n",
    "    if size != BASE_IMG_SIZE:\n",
    "        return cv2.resize(img, (size, size))\n",
    "    else:\n",
    "        return img\n",
    "\n",
    "def draw_cv2_noresize(raw_strokes, size=256, lw=1):\n",
    "\n",
    "    #line width\n",
    "    # lw = np.round((size / BASE_IMG_SIZE) * 6.0).astype(np.int8)\n",
    "\n",
    "    # Define a function to add 1 to each element\n",
    "    def add_one_to_element(element):\n",
    "        return np.round((element / 255.) * (size - 1)).astype(np.int8)\n",
    "    \n",
    "    # Use map to apply the function to each element in the nested list\n",
    "    result_strokes = list(map(lambda inner_list: list(map(lambda sublist: list(map(add_one_to_element, sublist)), inner_list)), raw_strokes))\n",
    "\n",
    "    img = np.zeros((size, size), np.uint8)\n",
    "    for stroke in result_strokes:\n",
    "        for i in range(len(stroke[0]) - 1):\n",
    "            _ = cv2.line(img, (stroke[0][i], stroke[1][i]), (stroke[0][i + 1], stroke[1][i + 1]), 255, lw)\n",
    "\n",
    "    return img\n",
    "\n",
    "def image_generator(size, BATCHSIZE, ks, lw=1):\n",
    "    while True:\n",
    "        for k in np.random.permutation(ks):\n",
    "            filename = os.path.join(DP_DIR, 'train_k{}.csv.gz'.format(k))\n",
    "            for df in pd.read_csv(filename, chunksize=BATCHSIZE):\n",
    "                df['drawing'] = df['drawing'].apply(ast.literal_eval)\n",
    "                x = np.zeros((len(df), size, size))\n",
    "                for i, raw_strokes in enumerate(df.drawing.values):\n",
    "                    #x[i] = draw_cv2(raw_strokes, size=size, lw=lw)\n",
    "                    x[i] = draw_cv2_noresize(raw_strokes, size=size, lw=lw)\n",
    "                x = x / 255.\n",
    "                x = x.reshape((len(df), size, size, 1)).astype(np.float32)\n",
    "                y = keras.utils.to_categorical(df.y, num_classes=NUM_CATS)\n",
    "                yield x, y\n",
    "\n",
    "def df_to_image_array(df, size, lw=1):\n",
    "    df['drawing'] = df['drawing'].apply(ast.literal_eval)\n",
    "    x = np.zeros((len(df), size, size))\n",
    "    for i, raw_strokes in enumerate(df.drawing.values):\n",
    "        #x[i] = draw_cv2(raw_strokes, size=size, lw=lw)\n",
    "        x[i] = draw_cv2_noresize(raw_strokes, size=size, lw=lw)\n",
    "    x = x / 255.\n",
    "    x = x.reshape((len(df), size, size, 1)).astype(np.float32)\n",
    "    return x"
   ]
  },
  {
   "cell_type": "code",
   "execution_count": 4,
   "metadata": {},
   "outputs": [
    {
     "name": "stdout",
     "output_type": "stream",
     "text": [
      "(400000, 32, 32, 1) (400000, 340)\n",
      "Validation array memory 1.53 GB\n"
     ]
    }
   ],
   "source": [
    "valid_df = pd.read_csv(os.path.join(DP_DIR, 'train_k{}.csv.gz'.format(NUM_CSVS - 1)), nrows=4*10**5) # Use the final csvs as validation set\n",
    "x_valid = df_to_image_array(valid_df, INPUT_IMG_SIZE)\n",
    "y_valid = keras.utils.to_categorical(valid_df.y, num_classes=NUM_CATS)\n",
    "print(x_valid.shape, y_valid.shape)\n",
    "print('Validation array memory {:.2f} GB'.format(x_valid.nbytes / 1024.**3 ))"
   ]
  },
  {
   "cell_type": "markdown",
   "metadata": {},
   "source": [
    "## 2. Start to training"
   ]
  },
  {
   "cell_type": "markdown",
   "metadata": {},
   "source": [
    "- #### Load train data generator"
   ]
  },
  {
   "cell_type": "code",
   "execution_count": 5,
   "metadata": {},
   "outputs": [],
   "source": [
    "train_datagen = image_generator(size=INPUT_IMG_SIZE, BATCHSIZE=BATCHSIZE, ks=range(NUM_CSVS - 1))"
   ]
  },
  {
   "cell_type": "code",
   "execution_count": 6,
   "metadata": {},
   "outputs": [
    {
     "data": {
      "image/png": "[encoded data removed]",
      "text/plain": [
       "<Figure size 1200x1200 with 64 Axes>"
      ]
     },
     "metadata": {},
     "output_type": "display_data"
    }
   ],
   "source": [
    "x, y = next(train_datagen)\n",
    "n = 8\n",
    "fig, axs = plt.subplots(nrows=n, ncols=n, sharex=True, sharey=True, figsize=(12, 12))\n",
    "for i in range(n**2):\n",
    "    ax = axs[i // n, i % n]\n",
    "    ax.imshow(x[i, :, :, 0], cmap=plt.cm.gray)\n",
    "    ax.axis('off')\n",
    "plt.tight_layout()\n",
    "fig.savefig(os.path.join(WORK_DIR, 'bw.png'), dpi=300)\n",
    "plt.show();\n"
   ]
  },
  {
   "cell_type": "markdown",
   "metadata": {},
   "source": [
    "- #### Create the model & train strategy"
   ]
  },
  {
   "cell_type": "code",
   "execution_count": 7,
   "metadata": {},
   "outputs": [],
   "source": [
    "def custom_single_cnn(size, conv_layers=(8, 16, 32, 64), conv_dropout=0.2):\n",
    "    #model = Sequential()\n",
    "    #model.add(Conv2D(conv_layers[0], kernel_size=(3, 3), padding='same', activation='relu', input_shape=(size, size, 1)))\n",
    "    #model.add(MaxPooling2D(pool_size=(2, 2), strides=(2, 2)))\n",
    "    #if conv_dropout:\n",
    "    #    model.add(Dropout(conv_dropout))\n",
    "#\n",
    "    #for conv_layer_size in conv_layers[1:]:\n",
    "    #    model.add(Conv2D(conv_layer_size, kernel_size=(3, 3), activation='relu'))\n",
    "    #    model.add(MaxPooling2D(pool_size=(2, 2), strides=(2, 2)))\n",
    "    #    if conv_dropout:\n",
    "    #        model.add(Dropout(conv_dropout))\n",
    "\n",
    "    inputs = tf.keras.Input((size, size, 1))\n",
    " \n",
    "    x = Conv2D(conv_layers[0], kernel_size=(3, 3), padding='same', activation='relu', input_shape=(size, size, 1))(inputs)\n",
    "    x = MaxPooling2D(pool_size=(2, 2), strides=(2, 2))(x)\n",
    "    if conv_dropout:\n",
    "        x = Dropout(conv_dropout)(x)\n",
    "\n",
    "    for conv_layer_size in conv_layers[1:]:\n",
    "        x = Conv2D(conv_layer_size, kernel_size=(3, 3), activation='relu')(x)\n",
    "        #x = MaxPooling2D(pool_size=(2, 2), strides=(2, 2))(x)\n",
    "        if conv_dropout:\n",
    "            x = Dropout(conv_dropout)(x)\n",
    "    \n",
    "    x = tf.keras.layers.GlobalAveragePooling2D(keepdims=True)(x)\n",
    "    x = tf.keras.layers.Dropout(0.2)(x)\n",
    "    x = tf.keras.layers.Conv2D(NUM_CATS, (1, 1), padding=\"same\")(x)\n",
    "    x = tf.reshape(x,[-1, NUM_CATS])\n",
    "    outputs = tf.keras.layers.Softmax()(x)\n",
    "    model = tf.keras.Model(inputs, outputs)\n",
    "    \n",
    "    return model\n",
    "\n",
    "def custom_ds_cnn(size, conv_layers=(128, 64), dscnn_layers=(64), conv_dropout=0.2):\n",
    "    model = Sequential()\n",
    "    model.add(Conv2D(conv_layers[0], kernel_size=(3, 3), padding='same', activation=None, input_shape=(size, size, 1)))\n",
    "    model.add(BatchNormalization(epsilon=1e-3, momentum=0.999, name='bn_Conv1_1'))\n",
    "    model.add(ReLU())\n",
    "    if conv_dropout:\n",
    "        model.add(Dropout(conv_dropout))\n",
    "\n",
    "    for dscnn_layer_size in dscnn_layers[0:]:\n",
    "        model.add(DepthwiseConv2D(kernel_size=3, strides=1, activation=None, use_bias=False, padding='same'))\n",
    "        model.add(BatchNormalization(epsilon=1e-3, momentum=0.999))\n",
    "        model.add(ReLU())\n",
    "\n",
    "        # Pointwise convolution.\n",
    "        model.add(Conv2D(filters=dscnn_layer_size, kernel_size=(1, 1)))\n",
    "        model.add(BatchNormalization(epsilon=1e-3, momentum=0.999))\n",
    "        #model.add(ReLU())\n",
    "\n",
    "    for conv_layer_size in conv_layers[1:]:\n",
    "        model.add(Conv2D(conv_layer_size, kernel_size=(2, 2), padding='same', activation=None))\n",
    "        model.add(BatchNormalization(epsilon=1e-3, momentum=0.999))\n",
    "        model.add(ReLU())\n",
    "        if conv_dropout:\n",
    "            model.add(Dropout(conv_dropout))\n",
    "\n",
    "    model.add(GlobalAveragePooling2D())\n",
    "    model.add(tf.keras.layers.Dense(NUM_CATS, activation='softmax', use_bias=True, name='Logits'))\n",
    "\n",
    "    return model\n",
    "\n",
    "def find_best_ckpt(dir_path, model):\n",
    "      pattern = re.compile(r\"\\d.\\d+\")\n",
    "      max_number = None\n",
    "      # Iterate over the files in the directory\n",
    "      for file in dir_path.iterdir():\n",
    "          filename = file.name\n",
    "          match = pattern.search(filename)\n",
    "          if match:\n",
    "              number_str = match.group()\n",
    "              number = float(number_str)\n",
    "              if max_number is None or number > max_number:\n",
    "                  max_number = number\n",
    "      if max_number is None:\n",
    "          print(\"There is no best ckpt in this work project.\")  \n",
    "      else:\n",
    "          print(\"Find the best ckpt:{}\".format(pathlib.Path(dir_path)/(number_str+f'_best_val.ckpt')))\n",
    "          model.load_weights(str(pathlib.Path(dir_path)/(number_str+f'_best_val.ckpt')))      \n",
    "      \n",
    "      return model\n",
    "\n",
    "def top_3_accuracy(y_true, y_pred):\n",
    "    return top_k_categorical_accuracy(y_true, y_pred, k=3)"
   ]
  },
  {
   "cell_type": "code",
   "execution_count": 14,
   "metadata": {},
   "outputs": [
    {
     "name": "stdout",
     "output_type": "stream",
     "text": [
      "WARNING:tensorflow:Detecting that an object or model or tf.train.Checkpoint is being deleted with unrestored values. See the following logs for the specific values in question. To silence these warnings, use `status.expect_partial()`. See https://www.tensorflow.org/api_docs/python/tf/train/Checkpoint#restorefor details about the status object returned by the restore function.\n",
      "WARNING:tensorflow:Value in checkpoint could not be found in the restored object: (root).optimizer.iter\n",
      "WARNING:tensorflow:Value in checkpoint could not be found in the restored object: (root).optimizer.beta_1\n",
      "WARNING:tensorflow:Value in checkpoint could not be found in the restored object: (root).optimizer.beta_2\n",
      "WARNING:tensorflow:Value in checkpoint could not be found in the restored object: (root).optimizer.decay\n",
      "WARNING:tensorflow:Value in checkpoint could not be found in the restored object: (root).optimizer.learning_rate\n",
      "WARNING:tensorflow:Value in checkpoint could not be found in the restored object: (root).optimizer's state 'm' for (root).layer_with_weights-0.kernel\n",
      "WARNING:tensorflow:Value in checkpoint could not be found in the restored object: (root).optimizer's state 'm' for (root).layer_with_weights-0.bias\n",
      "WARNING:tensorflow:Value in checkpoint could not be found in the restored object: (root).optimizer's state 'm' for (root).layer_with_weights-1.kernel\n",
      "WARNING:tensorflow:Value in checkpoint could not be found in the restored object: (root).optimizer's state 'm' for (root).layer_with_weights-1.bias\n",
      "WARNING:tensorflow:Value in checkpoint could not be found in the restored object: (root).optimizer's state 'm' for (root).layer_with_weights-2.kernel\n",
      "WARNING:tensorflow:Value in checkpoint could not be found in the restored object: (root).optimizer's state 'm' for (root).layer_with_weights-2.bias\n",
      "WARNING:tensorflow:Value in checkpoint could not be found in the restored object: (root).optimizer's state 'v' for (root).layer_with_weights-0.kernel\n",
      "WARNING:tensorflow:Value in checkpoint could not be found in the restored object: (root).optimizer's state 'v' for (root).layer_with_weights-0.bias\n",
      "WARNING:tensorflow:Value in checkpoint could not be found in the restored object: (root).optimizer's state 'v' for (root).layer_with_weights-1.kernel\n",
      "WARNING:tensorflow:Value in checkpoint could not be found in the restored object: (root).optimizer's state 'v' for (root).layer_with_weights-1.bias\n",
      "WARNING:tensorflow:Value in checkpoint could not be found in the restored object: (root).optimizer's state 'v' for (root).layer_with_weights-2.kernel\n",
      "WARNING:tensorflow:Value in checkpoint could not be found in the restored object: (root).optimizer's state 'v' for (root).layer_with_weights-2.bias\n",
      "Previous checkpoint folder found; loading saved weights\n",
      "Find the best ckpt:workspace\\340_all_CNN_NEW\\checkpoint\\0.294_best_val.ckpt\n",
      "[]\n",
      "Model: \"model_5\"\n"
     ]
    },
    {
     "name": "stdout",
     "output_type": "stream",
     "text": [
      "_________________________________________________________________\n",
      " Layer (type)                Output Shape              Param #   \n",
      "=================================================================\n",
      " input_6 (InputLayer)        [(None, 32, 32, 1)]       0         \n",
      "                                                                 \n",
      " conv2d_15 (Conv2D)          (None, 32, 32, 128)       1280      \n",
      "                                                                 \n",
      " max_pooling2d_5 (MaxPooling  (None, 16, 16, 128)      0         \n",
      " 2D)                                                             \n",
      "                                                                 \n",
      " conv2d_16 (Conv2D)          (None, 14, 14, 64)        73792     \n",
      "                                                                 \n",
      " global_average_pooling2d_5   (None, 1, 1, 64)         0         \n",
      " (GlobalAveragePooling2D)                                        \n",
      "                                                                 \n",
      " dropout_5 (Dropout)         (None, 1, 1, 64)          0         \n",
      "                                                                 \n",
      " conv2d_17 (Conv2D)          (None, 1, 1, 340)         22100     \n",
      "                                                                 \n",
      " tf.reshape_5 (TFOpLambda)   (None, 340)               0         \n",
      "                                                                 \n",
      " softmax_5 (Softmax)         (None, 340)               0         \n",
      "                                                                 \n",
      "=================================================================\n",
      "Total params: 97,172\n",
      "Trainable params: 97,172\n",
      "Non-trainable params: 0\n",
      "_________________________________________________________________\n",
      "None\n"
     ]
    }
   ],
   "source": [
    "if MODEL_TYPE.lower() == 'cnn':\n",
    "    model = custom_single_cnn(size=INPUT_IMG_SIZE,\n",
    "                          conv_layers=[128, 64],\n",
    "                          conv_dropout=False)\n",
    "else:\n",
    "    model = custom_ds_cnn(size=INPUT_IMG_SIZE,\n",
    "                          conv_layers=[128, 64, 32],\n",
    "                          dscnn_layers=[64],\n",
    "                          conv_dropout=False)\n",
    "    \n",
    "# If there is a checkpt, load the previous weights.\n",
    "if (pathlib.Path(WORK_DIR)/'checkpoint').exists():    \n",
    "    print(\"Previous checkpoint folder found; loading saved weights\")\n",
    "    model = find_best_ckpt((pathlib.Path(WORK_DIR)/'checkpoint'), model)\n",
    "else:\n",
    "    print(\"No checkpoint found, create the workfolder.\")\n",
    "\n",
    "# Set the model opt\n",
    "#model.compile(optimizer=Adam(learning_rate=0.008), loss='categorical_crossentropy',\n",
    "#              metrics=[categorical_crossentropy, categorical_accuracy, top_3_accuracy])  \n",
    "\n",
    "print(model.metrics)\n",
    "print(model.summary())"
   ]
  },
  {
   "cell_type": "markdown",
   "metadata": {},
   "source": [
    "- #### Training section\n",
    "- This part is training, and it takes 1 to 2 hrs (Nvdia RTX-3090 training from scratch) to get a decent result.\n",
    "- The actual training time is basing on your hardware, usage size of training dataset and model scale."
   ]
  },
  {
   "cell_type": "code",
   "execution_count": 9,
   "metadata": {},
   "outputs": [
    {
     "name": "stdout",
     "output_type": "stream",
     "text": [
      "Epoch 1/50\n",
      "700/700 [==============================] - 185s 262ms/step - loss: 3.9846 - categorical_crossentropy: 3.9846 - categorical_accuracy: 0.1807 - top_3_accuracy: 0.3271 - val_loss: 3.6174 - val_categorical_crossentropy: 3.6174 - val_categorical_accuracy: 0.2607 - val_top_3_accuracy: 0.4342 - lr: 0.0024\n",
      "Epoch 2/50\n",
      "700/700 [==============================] - 181s 258ms/step - loss: 3.9438 - categorical_crossentropy: 3.9438 - categorical_accuracy: 0.1872 - top_3_accuracy: 0.3356 - val_loss: 3.5692 - val_categorical_crossentropy: 3.5692 - val_categorical_accuracy: 0.2747 - val_top_3_accuracy: 0.4516 - lr: 0.0024\n",
      "Epoch 3/50\n",
      "700/700 [==============================] - 287s 411ms/step - loss: 3.9062 - categorical_crossentropy: 3.9062 - categorical_accuracy: 0.1920 - top_3_accuracy: 0.3424 - val_loss: 3.5131 - val_categorical_crossentropy: 3.5131 - val_categorical_accuracy: 0.2795 - val_top_3_accuracy: 0.4590 - lr: 0.0024\n",
      "Epoch 4/50\n",
      "700/700 [==============================] - 222s 317ms/step - loss: 3.8697 - categorical_crossentropy: 3.8697 - categorical_accuracy: 0.1969 - top_3_accuracy: 0.3505 - val_loss: 3.4767 - val_categorical_crossentropy: 3.4767 - val_categorical_accuracy: 0.2858 - val_top_3_accuracy: 0.4661 - lr: 0.0024\n",
      "Epoch 5/50\n",
      "700/700 [==============================] - 235s 336ms/step - loss: 3.8502 - categorical_crossentropy: 3.8502 - categorical_accuracy: 0.1997 - top_3_accuracy: 0.3541 - val_loss: 3.4383 - val_categorical_crossentropy: 3.4383 - val_categorical_accuracy: 0.2943 - val_top_3_accuracy: 0.4760 - lr: 0.0024\n",
      "Epoch 6/50\n",
      "700/700 [==============================] - 360s 515ms/step - loss: 3.8255 - categorical_crossentropy: 3.8255 - categorical_accuracy: 0.2033 - top_3_accuracy: 0.3599 - val_loss: 3.4341 - val_categorical_crossentropy: 3.4341 - val_categorical_accuracy: 0.2934 - val_top_3_accuracy: 0.4770 - lr: 0.0024\n",
      "Epoch 7/50\n",
      "317/700 [============>.................] - ETA: 1:29 - loss: 3.8065 - categorical_crossentropy: 3.8065 - categorical_accuracy: 0.2061 - top_3_accuracy: 0.3643"
     ]
    },
    {
     "ename": "KeyboardInterrupt",
     "evalue": "",
     "output_type": "error",
     "traceback": [
      "\u001b[1;31m---------------------------------------------------------------------------\u001b[0m",
      "\u001b[1;31mKeyboardInterrupt\u001b[0m                         Traceback (most recent call last)",
      "\u001b[1;32mc:\\Users\\USER\\Desktop\\ML\\ML_QuickDraw\\CNN.ipynb Cell 15\u001b[0m in \u001b[0;36m<cell line: 19>\u001b[1;34m()\u001b[0m\n\u001b[0;32m      <a href='vscode-notebook-cell:/c%3A/Users/USER/Desktop/ML/ML_QuickDraw/CNN.ipynb#X20sZmlsZQ%3D%3D?line=4'>5</a>\u001b[0m callbacks_chpt \u001b[39m=\u001b[39m tf\u001b[39m.\u001b[39mkeras\u001b[39m.\u001b[39mcallbacks\u001b[39m.\u001b[39mModelCheckpoint(\n\u001b[0;32m      <a href='vscode-notebook-cell:/c%3A/Users/USER/Desktop/ML/ML_QuickDraw/CNN.ipynb#X20sZmlsZQ%3D%3D?line=5'>6</a>\u001b[0m                 filepath\u001b[39m=\u001b[39m(os\u001b[39m.\u001b[39mpath\u001b[39m.\u001b[39mjoin(WORK_DIR, \u001b[39m'\u001b[39m\u001b[39mcheckpoint\u001b[39m\u001b[39m'\u001b[39m, \u001b[39m'\u001b[39m\u001b[39m{val_categorical_accuracy:.3f}\u001b[39;00m\u001b[39m_best_val.ckpt\u001b[39m\u001b[39m'\u001b[39m)),\n\u001b[0;32m      <a href='vscode-notebook-cell:/c%3A/Users/USER/Desktop/ML/ML_QuickDraw/CNN.ipynb#X20sZmlsZQ%3D%3D?line=6'>7</a>\u001b[0m                 save_weights_only\u001b[39m=\u001b[39m\u001b[39mTrue\u001b[39;00m, \n\u001b[1;32m   (...)\u001b[0m\n\u001b[0;32m     <a href='vscode-notebook-cell:/c%3A/Users/USER/Desktop/ML/ML_QuickDraw/CNN.ipynb#X20sZmlsZQ%3D%3D?line=9'>10</a>\u001b[0m                 save_best_only\u001b[39m=\u001b[39m\u001b[39mTrue\u001b[39;00m, \n\u001b[0;32m     <a href='vscode-notebook-cell:/c%3A/Users/USER/Desktop/ML/ML_QuickDraw/CNN.ipynb#X20sZmlsZQ%3D%3D?line=10'>11</a>\u001b[0m                 save_freq\u001b[39m=\u001b[39m\u001b[39m'\u001b[39m\u001b[39mepoch\u001b[39m\u001b[39m'\u001b[39m)\n\u001b[0;32m     <a href='vscode-notebook-cell:/c%3A/Users/USER/Desktop/ML/ML_QuickDraw/CNN.ipynb#X20sZmlsZQ%3D%3D?line=12'>13</a>\u001b[0m callbacks \u001b[39m=\u001b[39m [\n\u001b[0;32m     <a href='vscode-notebook-cell:/c%3A/Users/USER/Desktop/ML/ML_QuickDraw/CNN.ipynb#X20sZmlsZQ%3D%3D?line=13'>14</a>\u001b[0m     EarlyStopping(monitor\u001b[39m=\u001b[39m\u001b[39m'\u001b[39m\u001b[39mval_categorical_accuracy\u001b[39m\u001b[39m'\u001b[39m, patience\u001b[39m=\u001b[39m\u001b[39m7\u001b[39m, min_delta\u001b[39m=\u001b[39m\u001b[39m0.001\u001b[39m, mode\u001b[39m=\u001b[39m\u001b[39m'\u001b[39m\u001b[39mmax\u001b[39m\u001b[39m'\u001b[39m),\n\u001b[0;32m     <a href='vscode-notebook-cell:/c%3A/Users/USER/Desktop/ML/ML_QuickDraw/CNN.ipynb#X20sZmlsZQ%3D%3D?line=14'>15</a>\u001b[0m     ReduceLROnPlateau(monitor\u001b[39m=\u001b[39m\u001b[39m'\u001b[39m\u001b[39mval_categorical_accuracy\u001b[39m\u001b[39m'\u001b[39m, factor\u001b[39m=\u001b[39m\u001b[39m0.5\u001b[39m, patience\u001b[39m=\u001b[39m\u001b[39m5\u001b[39m, min_delta\u001b[39m=\u001b[39m\u001b[39m0.005\u001b[39m, mode\u001b[39m=\u001b[39m\u001b[39m'\u001b[39m\u001b[39mmax\u001b[39m\u001b[39m'\u001b[39m, cooldown\u001b[39m=\u001b[39m\u001b[39m3\u001b[39m),\n\u001b[0;32m     <a href='vscode-notebook-cell:/c%3A/Users/USER/Desktop/ML/ML_QuickDraw/CNN.ipynb#X20sZmlsZQ%3D%3D?line=15'>16</a>\u001b[0m     callbacks_chpt\n\u001b[0;32m     <a href='vscode-notebook-cell:/c%3A/Users/USER/Desktop/ML/ML_QuickDraw/CNN.ipynb#X20sZmlsZQ%3D%3D?line=16'>17</a>\u001b[0m ]\n\u001b[1;32m---> <a href='vscode-notebook-cell:/c%3A/Users/USER/Desktop/ML/ML_QuickDraw/CNN.ipynb#X20sZmlsZQ%3D%3D?line=18'>19</a>\u001b[0m hist \u001b[39m=\u001b[39m model\u001b[39m.\u001b[39;49mfit(\n\u001b[0;32m     <a href='vscode-notebook-cell:/c%3A/Users/USER/Desktop/ML/ML_QuickDraw/CNN.ipynb#X20sZmlsZQ%3D%3D?line=19'>20</a>\u001b[0m     train_datagen, steps_per_epoch\u001b[39m=\u001b[39;49mSTEPS_P_EPOCH, epochs\u001b[39m=\u001b[39;49mEPOCHS, verbose\u001b[39m=\u001b[39;49m\u001b[39m1\u001b[39;49m,\n\u001b[0;32m     <a href='vscode-notebook-cell:/c%3A/Users/USER/Desktop/ML/ML_QuickDraw/CNN.ipynb#X20sZmlsZQ%3D%3D?line=20'>21</a>\u001b[0m     validation_data\u001b[39m=\u001b[39;49m(x_valid, y_valid),\n\u001b[0;32m     <a href='vscode-notebook-cell:/c%3A/Users/USER/Desktop/ML/ML_QuickDraw/CNN.ipynb#X20sZmlsZQ%3D%3D?line=21'>22</a>\u001b[0m     callbacks \u001b[39m=\u001b[39;49m callbacks\n\u001b[0;32m     <a href='vscode-notebook-cell:/c%3A/Users/USER/Desktop/ML/ML_QuickDraw/CNN.ipynb#X20sZmlsZQ%3D%3D?line=22'>23</a>\u001b[0m )\n",
      "File \u001b[1;32mc:\\ProgramData\\anaconda3\\envs\\NuEdgeWise_env\\lib\\site-packages\\keras\\utils\\traceback_utils.py:65\u001b[0m, in \u001b[0;36mfilter_traceback.<locals>.error_handler\u001b[1;34m(*args, **kwargs)\u001b[0m\n\u001b[0;32m     63\u001b[0m filtered_tb \u001b[39m=\u001b[39m \u001b[39mNone\u001b[39;00m\n\u001b[0;32m     64\u001b[0m \u001b[39mtry\u001b[39;00m:\n\u001b[1;32m---> 65\u001b[0m     \u001b[39mreturn\u001b[39;00m fn(\u001b[39m*\u001b[39;49margs, \u001b[39m*\u001b[39;49m\u001b[39m*\u001b[39;49mkwargs)\n\u001b[0;32m     66\u001b[0m \u001b[39mexcept\u001b[39;00m \u001b[39mException\u001b[39;00m \u001b[39mas\u001b[39;00m e:\n\u001b[0;32m     67\u001b[0m     filtered_tb \u001b[39m=\u001b[39m _process_traceback_frames(e\u001b[39m.\u001b[39m__traceback__)\n",
      "File \u001b[1;32mc:\\ProgramData\\anaconda3\\envs\\NuEdgeWise_env\\lib\\site-packages\\keras\\engine\\training.py:1564\u001b[0m, in \u001b[0;36mModel.fit\u001b[1;34m(self, x, y, batch_size, epochs, verbose, callbacks, validation_split, validation_data, shuffle, class_weight, sample_weight, initial_epoch, steps_per_epoch, validation_steps, validation_batch_size, validation_freq, max_queue_size, workers, use_multiprocessing)\u001b[0m\n\u001b[0;32m   1556\u001b[0m \u001b[39mwith\u001b[39;00m tf\u001b[39m.\u001b[39mprofiler\u001b[39m.\u001b[39mexperimental\u001b[39m.\u001b[39mTrace(\n\u001b[0;32m   1557\u001b[0m     \u001b[39m\"\u001b[39m\u001b[39mtrain\u001b[39m\u001b[39m\"\u001b[39m,\n\u001b[0;32m   1558\u001b[0m     epoch_num\u001b[39m=\u001b[39mepoch,\n\u001b[1;32m   (...)\u001b[0m\n\u001b[0;32m   1561\u001b[0m     _r\u001b[39m=\u001b[39m\u001b[39m1\u001b[39m,\n\u001b[0;32m   1562\u001b[0m ):\n\u001b[0;32m   1563\u001b[0m     callbacks\u001b[39m.\u001b[39mon_train_batch_begin(step)\n\u001b[1;32m-> 1564\u001b[0m     tmp_logs \u001b[39m=\u001b[39m \u001b[39mself\u001b[39;49m\u001b[39m.\u001b[39;49mtrain_function(iterator)\n\u001b[0;32m   1565\u001b[0m     \u001b[39mif\u001b[39;00m data_handler\u001b[39m.\u001b[39mshould_sync:\n\u001b[0;32m   1566\u001b[0m         context\u001b[39m.\u001b[39masync_wait()\n",
      "File \u001b[1;32mc:\\ProgramData\\anaconda3\\envs\\NuEdgeWise_env\\lib\\site-packages\\tensorflow\\python\\util\\traceback_utils.py:150\u001b[0m, in \u001b[0;36mfilter_traceback.<locals>.error_handler\u001b[1;34m(*args, **kwargs)\u001b[0m\n\u001b[0;32m    148\u001b[0m filtered_tb \u001b[39m=\u001b[39m \u001b[39mNone\u001b[39;00m\n\u001b[0;32m    149\u001b[0m \u001b[39mtry\u001b[39;00m:\n\u001b[1;32m--> 150\u001b[0m   \u001b[39mreturn\u001b[39;00m fn(\u001b[39m*\u001b[39;49margs, \u001b[39m*\u001b[39;49m\u001b[39m*\u001b[39;49mkwargs)\n\u001b[0;32m    151\u001b[0m \u001b[39mexcept\u001b[39;00m \u001b[39mException\u001b[39;00m \u001b[39mas\u001b[39;00m e:\n\u001b[0;32m    152\u001b[0m   filtered_tb \u001b[39m=\u001b[39m _process_traceback_frames(e\u001b[39m.\u001b[39m__traceback__)\n",
      "File \u001b[1;32mc:\\ProgramData\\anaconda3\\envs\\NuEdgeWise_env\\lib\\site-packages\\tensorflow\\python\\eager\\def_function.py:915\u001b[0m, in \u001b[0;36mFunction.__call__\u001b[1;34m(self, *args, **kwds)\u001b[0m\n\u001b[0;32m    912\u001b[0m compiler \u001b[39m=\u001b[39m \u001b[39m\"\u001b[39m\u001b[39mxla\u001b[39m\u001b[39m\"\u001b[39m \u001b[39mif\u001b[39;00m \u001b[39mself\u001b[39m\u001b[39m.\u001b[39m_jit_compile \u001b[39melse\u001b[39;00m \u001b[39m\"\u001b[39m\u001b[39mnonXla\u001b[39m\u001b[39m\"\u001b[39m\n\u001b[0;32m    914\u001b[0m \u001b[39mwith\u001b[39;00m OptionalXlaContext(\u001b[39mself\u001b[39m\u001b[39m.\u001b[39m_jit_compile):\n\u001b[1;32m--> 915\u001b[0m   result \u001b[39m=\u001b[39m \u001b[39mself\u001b[39;49m\u001b[39m.\u001b[39;49m_call(\u001b[39m*\u001b[39;49margs, \u001b[39m*\u001b[39;49m\u001b[39m*\u001b[39;49mkwds)\n\u001b[0;32m    917\u001b[0m new_tracing_count \u001b[39m=\u001b[39m \u001b[39mself\u001b[39m\u001b[39m.\u001b[39mexperimental_get_tracing_count()\n\u001b[0;32m    918\u001b[0m without_tracing \u001b[39m=\u001b[39m (tracing_count \u001b[39m==\u001b[39m new_tracing_count)\n",
      "File \u001b[1;32mc:\\ProgramData\\anaconda3\\envs\\NuEdgeWise_env\\lib\\site-packages\\tensorflow\\python\\eager\\def_function.py:947\u001b[0m, in \u001b[0;36mFunction._call\u001b[1;34m(self, *args, **kwds)\u001b[0m\n\u001b[0;32m    944\u001b[0m   \u001b[39mself\u001b[39m\u001b[39m.\u001b[39m_lock\u001b[39m.\u001b[39mrelease()\n\u001b[0;32m    945\u001b[0m   \u001b[39m# In this case we have created variables on the first call, so we run the\u001b[39;00m\n\u001b[0;32m    946\u001b[0m   \u001b[39m# defunned version which is guaranteed to never create variables.\u001b[39;00m\n\u001b[1;32m--> 947\u001b[0m   \u001b[39mreturn\u001b[39;00m \u001b[39mself\u001b[39;49m\u001b[39m.\u001b[39;49m_stateless_fn(\u001b[39m*\u001b[39;49margs, \u001b[39m*\u001b[39;49m\u001b[39m*\u001b[39;49mkwds)  \u001b[39m# pylint: disable=not-callable\u001b[39;00m\n\u001b[0;32m    948\u001b[0m \u001b[39melif\u001b[39;00m \u001b[39mself\u001b[39m\u001b[39m.\u001b[39m_stateful_fn \u001b[39mis\u001b[39;00m \u001b[39mnot\u001b[39;00m \u001b[39mNone\u001b[39;00m:\n\u001b[0;32m    949\u001b[0m   \u001b[39m# Release the lock early so that multiple threads can perform the call\u001b[39;00m\n\u001b[0;32m    950\u001b[0m   \u001b[39m# in parallel.\u001b[39;00m\n\u001b[0;32m    951\u001b[0m   \u001b[39mself\u001b[39m\u001b[39m.\u001b[39m_lock\u001b[39m.\u001b[39mrelease()\n",
      "File \u001b[1;32mc:\\ProgramData\\anaconda3\\envs\\NuEdgeWise_env\\lib\\site-packages\\tensorflow\\python\\eager\\function.py:2496\u001b[0m, in \u001b[0;36mFunction.__call__\u001b[1;34m(self, *args, **kwargs)\u001b[0m\n\u001b[0;32m   2493\u001b[0m \u001b[39mwith\u001b[39;00m \u001b[39mself\u001b[39m\u001b[39m.\u001b[39m_lock:\n\u001b[0;32m   2494\u001b[0m   (graph_function,\n\u001b[0;32m   2495\u001b[0m    filtered_flat_args) \u001b[39m=\u001b[39m \u001b[39mself\u001b[39m\u001b[39m.\u001b[39m_maybe_define_function(args, kwargs)\n\u001b[1;32m-> 2496\u001b[0m \u001b[39mreturn\u001b[39;00m graph_function\u001b[39m.\u001b[39;49m_call_flat(\n\u001b[0;32m   2497\u001b[0m     filtered_flat_args, captured_inputs\u001b[39m=\u001b[39;49mgraph_function\u001b[39m.\u001b[39;49mcaptured_inputs)\n",
      "File \u001b[1;32mc:\\ProgramData\\anaconda3\\envs\\NuEdgeWise_env\\lib\\site-packages\\tensorflow\\python\\eager\\function.py:1862\u001b[0m, in \u001b[0;36mConcreteFunction._call_flat\u001b[1;34m(self, args, captured_inputs, cancellation_manager)\u001b[0m\n\u001b[0;32m   1858\u001b[0m possible_gradient_type \u001b[39m=\u001b[39m gradients_util\u001b[39m.\u001b[39mPossibleTapeGradientTypes(args)\n\u001b[0;32m   1859\u001b[0m \u001b[39mif\u001b[39;00m (possible_gradient_type \u001b[39m==\u001b[39m gradients_util\u001b[39m.\u001b[39mPOSSIBLE_GRADIENT_TYPES_NONE\n\u001b[0;32m   1860\u001b[0m     \u001b[39mand\u001b[39;00m executing_eagerly):\n\u001b[0;32m   1861\u001b[0m   \u001b[39m# No tape is watching; skip to running the function.\u001b[39;00m\n\u001b[1;32m-> 1862\u001b[0m   \u001b[39mreturn\u001b[39;00m \u001b[39mself\u001b[39m\u001b[39m.\u001b[39m_build_call_outputs(\u001b[39mself\u001b[39;49m\u001b[39m.\u001b[39;49m_inference_function\u001b[39m.\u001b[39;49mcall(\n\u001b[0;32m   1863\u001b[0m       ctx, args, cancellation_manager\u001b[39m=\u001b[39;49mcancellation_manager))\n\u001b[0;32m   1864\u001b[0m forward_backward \u001b[39m=\u001b[39m \u001b[39mself\u001b[39m\u001b[39m.\u001b[39m_select_forward_and_backward_functions(\n\u001b[0;32m   1865\u001b[0m     args,\n\u001b[0;32m   1866\u001b[0m     possible_gradient_type,\n\u001b[0;32m   1867\u001b[0m     executing_eagerly)\n\u001b[0;32m   1868\u001b[0m forward_function, args_with_tangents \u001b[39m=\u001b[39m forward_backward\u001b[39m.\u001b[39mforward()\n",
      "File \u001b[1;32mc:\\ProgramData\\anaconda3\\envs\\NuEdgeWise_env\\lib\\site-packages\\tensorflow\\python\\eager\\function.py:499\u001b[0m, in \u001b[0;36m_EagerDefinedFunction.call\u001b[1;34m(self, ctx, args, cancellation_manager)\u001b[0m\n\u001b[0;32m    497\u001b[0m \u001b[39mwith\u001b[39;00m _InterpolateFunctionError(\u001b[39mself\u001b[39m):\n\u001b[0;32m    498\u001b[0m   \u001b[39mif\u001b[39;00m cancellation_manager \u001b[39mis\u001b[39;00m \u001b[39mNone\u001b[39;00m:\n\u001b[1;32m--> 499\u001b[0m     outputs \u001b[39m=\u001b[39m execute\u001b[39m.\u001b[39;49mexecute(\n\u001b[0;32m    500\u001b[0m         \u001b[39mstr\u001b[39;49m(\u001b[39mself\u001b[39;49m\u001b[39m.\u001b[39;49msignature\u001b[39m.\u001b[39;49mname),\n\u001b[0;32m    501\u001b[0m         num_outputs\u001b[39m=\u001b[39;49m\u001b[39mself\u001b[39;49m\u001b[39m.\u001b[39;49m_num_outputs,\n\u001b[0;32m    502\u001b[0m         inputs\u001b[39m=\u001b[39;49margs,\n\u001b[0;32m    503\u001b[0m         attrs\u001b[39m=\u001b[39;49mattrs,\n\u001b[0;32m    504\u001b[0m         ctx\u001b[39m=\u001b[39;49mctx)\n\u001b[0;32m    505\u001b[0m   \u001b[39melse\u001b[39;00m:\n\u001b[0;32m    506\u001b[0m     outputs \u001b[39m=\u001b[39m execute\u001b[39m.\u001b[39mexecute_with_cancellation(\n\u001b[0;32m    507\u001b[0m         \u001b[39mstr\u001b[39m(\u001b[39mself\u001b[39m\u001b[39m.\u001b[39msignature\u001b[39m.\u001b[39mname),\n\u001b[0;32m    508\u001b[0m         num_outputs\u001b[39m=\u001b[39m\u001b[39mself\u001b[39m\u001b[39m.\u001b[39m_num_outputs,\n\u001b[1;32m   (...)\u001b[0m\n\u001b[0;32m    511\u001b[0m         ctx\u001b[39m=\u001b[39mctx,\n\u001b[0;32m    512\u001b[0m         cancellation_manager\u001b[39m=\u001b[39mcancellation_manager)\n",
      "File \u001b[1;32mc:\\ProgramData\\anaconda3\\envs\\NuEdgeWise_env\\lib\\site-packages\\tensorflow\\python\\eager\\execute.py:54\u001b[0m, in \u001b[0;36mquick_execute\u001b[1;34m(op_name, num_outputs, inputs, attrs, ctx, name)\u001b[0m\n\u001b[0;32m     52\u001b[0m \u001b[39mtry\u001b[39;00m:\n\u001b[0;32m     53\u001b[0m   ctx\u001b[39m.\u001b[39mensure_initialized()\n\u001b[1;32m---> 54\u001b[0m   tensors \u001b[39m=\u001b[39m pywrap_tfe\u001b[39m.\u001b[39;49mTFE_Py_Execute(ctx\u001b[39m.\u001b[39;49m_handle, device_name, op_name,\n\u001b[0;32m     55\u001b[0m                                       inputs, attrs, num_outputs)\n\u001b[0;32m     56\u001b[0m \u001b[39mexcept\u001b[39;00m core\u001b[39m.\u001b[39m_NotOkStatusException \u001b[39mas\u001b[39;00m e:\n\u001b[0;32m     57\u001b[0m   \u001b[39mif\u001b[39;00m name \u001b[39mis\u001b[39;00m \u001b[39mnot\u001b[39;00m \u001b[39mNone\u001b[39;00m:\n",
      "\u001b[1;31mKeyboardInterrupt\u001b[0m: "
     ]
    }
   ],
   "source": [
    "\n",
    "\n",
    "callbacks_chpt = tf.keras.callbacks.ModelCheckpoint(\n",
    "                filepath=(os.path.join(WORK_DIR, 'checkpoint', '{val_categorical_accuracy:.3f}_best_val.ckpt')),\n",
    "                save_weights_only=True, \n",
    "                monitor='val_categorical_accuracy',\n",
    "                mode = 'max',\n",
    "                save_best_only=True, \n",
    "                save_freq='epoch')\n",
    "\n",
    "callbacks = [\n",
    "    EarlyStopping(monitor='val_categorical_accuracy', patience=7, min_delta=0.001, mode='max'),\n",
    "    ReduceLROnPlateau(monitor='val_categorical_accuracy', factor=0.5, patience=5, min_delta=0.005, mode='max', cooldown=3),\n",
    "    callbacks_chpt\n",
    "]\n",
    "\n",
    "hist = model.fit(\n",
    "    train_datagen, steps_per_epoch=STEPS_P_EPOCH, epochs=EPOCHS, verbose=1,\n",
    "    validation_data=(x_valid, y_valid),\n",
    "    callbacks = callbacks\n",
    ")"
   ]
  },
  {
   "cell_type": "code",
   "execution_count": 14,
   "metadata": {},
   "outputs": [
    {
     "data": {
      "image/png": "[encoded data removed]",
      "text/plain": [
       "<Figure size 1600x1000 with 2 Axes>"
      ]
     },
     "metadata": {},
     "output_type": "display_data"
    }
   ],
   "source": [
    "hist_df = pd.DataFrame(hist.history)\n",
    "fig, axs = plt.subplots(nrows=2, sharex=True, figsize=(16, 10))\n",
    "axs[0].plot(hist_df.val_categorical_accuracy, lw=5, label='Validation Accuracy')\n",
    "axs[0].plot(hist_df.categorical_accuracy, lw=5, label='Training Accuracy')\n",
    "axs[0].set_ylabel('Accuracy')\n",
    "axs[0].set_xlabel('Epoch')\n",
    "axs[0].grid()\n",
    "axs[0].legend(loc=0)\n",
    "axs[1].plot(hist_df.val_categorical_crossentropy, lw=5, label='Validation MLogLoss')\n",
    "axs[1].plot(hist_df.categorical_crossentropy, lw=5, label='Training MLogLoss')\n",
    "axs[1].set_ylabel('MLogLoss')\n",
    "axs[1].set_xlabel('Epoch')\n",
    "axs[1].grid()\n",
    "axs[1].legend(loc=0)\n",
    "fig.savefig(os.path.join(WORK_DIR, 'hist.png'), dpi=300)\n",
    "plt.show();"
   ]
  },
  {
   "cell_type": "markdown",
   "metadata": {},
   "source": [
    "## 3. Validation and test the model"
   ]
  },
  {
   "cell_type": "code",
   "execution_count": 15,
   "metadata": {},
   "outputs": [],
   "source": [
    "def apk(actual, predicted, k=3):\n",
    "    \"\"\"\n",
    "    Source: https://github.com/benhamner/Metrics/blob/master/Python/ml_metrics/average_precision.py\n",
    "    \"\"\"\n",
    "    if len(predicted) > k:\n",
    "        predicted = predicted[:k]\n",
    "\n",
    "    score = 0.0\n",
    "    num_hits = 0.0\n",
    "\n",
    "    for i, p in enumerate(predicted):\n",
    "        if p in actual and p not in predicted[:i]:\n",
    "            num_hits += 1.0\n",
    "            score += num_hits / (i + 1.0)\n",
    "\n",
    "    if not actual:\n",
    "        return 0.0\n",
    "\n",
    "    return score / min(len(actual), k)\n",
    "\n",
    "def mapk(actual, predicted, k=3):\n",
    "    \"\"\"\n",
    "    Source: https://github.com/benhamner/Metrics/blob/master/Python/ml_metrics/average_precision.py\n",
    "    \"\"\"\n",
    "    return np.mean([apk(a, p, k) for a, p in zip(actual, predicted)])\n",
    "\n",
    "\n",
    "def preds2catIdx(predictions):\n",
    "    return pd.DataFrame(np.argsort(-predictions, axis=1)[:, :3], columns=['a', 'b', 'c'])\n",
    "\n",
    "def top3_acc( tgt, pred ):\n",
    "    sc = np.mean( (pred[:,0]==tgt) | (pred[:,1]==tgt) | (pred[:,2]==tgt) )\n",
    "    return sc\n",
    "\n",
    "def top1_acc( tgt, pred ):\n",
    "    sc = np.mean( (pred[:,0]==tgt))\n",
    "    return sc"
   ]
  },
  {
   "cell_type": "code",
   "execution_count": 16,
   "metadata": {},
   "outputs": [
    {
     "name": "stdout",
     "output_type": "stream",
     "text": [
      "Previous checkpoint folder found; loading saved weights\n",
      "Find the best ckpt:workspace\\340_all_CNN\\checkpoint\\0.686_best_val.ckpt\n",
      "3125/3125 [==============================] - 5s 1ms/step\n",
      "Top1 Accuracy: 0.686\n",
      "Top3 Accuracy: 0.847\n",
      "Map3: 0.757\n"
     ]
    }
   ],
   "source": [
    "# 從checkpoint得到最好的model(val_categorical_accuracy最小)\n",
    "if (pathlib.Path(WORK_DIR)/'checkpoint').exists():    \n",
    "    print(\"Previous checkpoint folder found; loading saved weights\")\n",
    "    model = find_best_ckpt((pathlib.Path(WORK_DIR)/'checkpoint'), model)\n",
    "else:\n",
    "    print(\"No checkpoint found, create the workfolder.\")\n",
    "\n",
    "# Map3: 按照排名給分，第一名hit=>1, 第二名hit=>1/2, 第三名hit=>1/3 以此類推\n",
    "valid_predictions = model.predict(x_valid, batch_size=128, verbose=1)\n",
    "map3 = mapk(valid_df[['y']].values, preds2catIdx(valid_predictions).values)\n",
    "top1 = top1_acc(valid_df[['y']].values.flatten(), preds2catIdx(valid_predictions).values)\n",
    "top3 = top3_acc(valid_df[['y']].values.flatten(), preds2catIdx(valid_predictions).values)\n",
    "print('Top1 Accuracy: {:.3f}'.format(top1))\n",
    "print('Top3 Accuracy: {:.3f}'.format(top3))\n",
    "print('Map3: {:.3f}'.format(map3))"
   ]
  },
  {
   "cell_type": "markdown",
   "metadata": {},
   "source": [
    "## 4. Save the model"
   ]
  },
  {
   "cell_type": "code",
   "execution_count": 17,
   "metadata": {},
   "outputs": [
    {
     "name": "stderr",
     "output_type": "stream",
     "text": [
      "WARNING:absl:Found untraced functions such as _jit_compiled_convolution_op, _jit_compiled_convolution_op while saving (showing 2 of 2). These functions will not be directly callable after loading.\n"
     ]
    },
    {
     "name": "stdout",
     "output_type": "stream",
     "text": [
      "INFO:tensorflow:Assets written to: ./workspace/340_all_CNN\\CNN_340_all\\assets\n"
     ]
    },
    {
     "name": "stderr",
     "output_type": "stream",
     "text": [
      "INFO:tensorflow:Assets written to: ./workspace/340_all_CNN\\CNN_340_all\\assets\n"
     ]
    }
   ],
   "source": [
    "model.save(os.path.join(WORK_DIR, MODEL_NAME))\n",
    "#tf.keras.models.save_model(model, os.path.join(WORK_DIR, MODEL_NAME))"
   ]
  },
  {
   "cell_type": "markdown",
   "metadata": {},
   "source": [
    "## 5. Convert to tflite\n",
    "- Include quantization and offer normal, dynamic quantization, float16 quantization and int8 quantization tflite."
   ]
  },
  {
   "cell_type": "code",
   "execution_count": 18,
   "metadata": {},
   "outputs": [],
   "source": [
    "def convert2tflite(custom_model_path, output_tflite_location, rep_dataset, rep_batch):\n",
    "      \n",
    "      def representative_dataset():\n",
    "        \n",
    "        for img in rep_dataset[0:rep_batch]:\n",
    "            \n",
    "            image = tf.expand_dims(img, axis=0)\n",
    "            #image = tf.dtypes.cast(image, tf.float32) \n",
    "            yield [image]\n",
    "      \n",
    "      # load the keras model and the custom op.\n",
    "      custom_model = keras.models.load_model(os.path.join(WORK_DIR, MODEL_NAME), custom_objects={'top_3_accuracy':top_3_accuracy})\n",
    "\n",
    "      # normal tflite\n",
    "      converter = tf.lite.TFLiteConverter.from_keras_model(custom_model)\n",
    "      tflite_model = converter.convert()\n",
    "      output_location = os.path.join(output_tflite_location, (MODEL_NAME + r'.tflite'))\n",
    "      with open(output_location, 'wb') as f:\n",
    "            f.write(tflite_model)\n",
    "      print(\"The tflite output location: {}\".format(output_location)) \n",
    "      \n",
    "      # dynamic tflite\n",
    "      converter = tf.lite.TFLiteConverter.from_keras_model(custom_model)\n",
    "      converter.optimizations = [tf.lite.Optimize.DEFAULT]\n",
    "      tflite_model = converter.convert()\n",
    "      output_location = os.path.join(output_tflite_location, (MODEL_NAME + r'_dyquant.tflite'))\n",
    "      with open(output_location, 'wb') as f:\n",
    "            f.write(tflite_model)\n",
    "      print(\"The tflite output location: {}\".format(output_location))\n",
    "      \n",
    "      # int8 Full tflite\n",
    "      converter = tf.lite.TFLiteConverter.from_keras_model(custom_model)\n",
    "      converter.optimizations = [tf.lite.Optimize.DEFAULT]\n",
    "      converter.target_spec.supported_ops = [tf.lite.OpsSet.TFLITE_BUILTINS_INT8, tf.lite.OpsSet.TFLITE_BUILTINS]\n",
    "      converter.representative_dataset = representative_dataset\n",
    "      converter.inference_input_type = tf.int8  # or tf.uint8\n",
    "      converter.inference_output_type = tf.int8  # or tf.uint8\n",
    "      tflite_model = converter.convert()\n",
    "      output_location = os.path.join(output_tflite_location, (MODEL_NAME + r'_int8quant.tflite'))\n",
    "      with open(output_location, 'wb') as f:\n",
    "            f.write(tflite_model)\n",
    "      print(\"The tflite output location: {}\".format(output_location)) \n",
    "      \n",
    "      # f16 tflite\n",
    "      converter = tf.lite.TFLiteConverter.from_keras_model(custom_model)\n",
    "      converter.optimizations = [tf.lite.Optimize.DEFAULT]\n",
    "      converter.target_spec.supported_types = [tf.float16]\n",
    "      #converter.representative_dataset = representative_dataset\n",
    "      tflite_model = converter.convert()\n",
    "      output_location = os.path.join(output_tflite_location, (MODEL_NAME + r'_f16quant.tflite'))\n",
    "      with open(output_location, 'wb') as f:\n",
    "            f.write(tflite_model)\n",
    "      print(\"The tflite output location: {}\".format(output_location))"
   ]
  },
  {
   "cell_type": "code",
   "execution_count": 19,
   "metadata": {},
   "outputs": [
    {
     "name": "stderr",
     "output_type": "stream",
     "text": [
      "WARNING:absl:Found untraced functions such as _jit_compiled_convolution_op, _jit_compiled_convolution_op while saving (showing 2 of 2). These functions will not be directly callable after loading.\n"
     ]
    },
    {
     "name": "stdout",
     "output_type": "stream",
     "text": [
      "INFO:tensorflow:Assets written to: C:\\Users\\USER\\AppData\\Local\\Temp\\tmp2ciulhts\\assets\n"
     ]
    },
    {
     "name": "stderr",
     "output_type": "stream",
     "text": [
      "INFO:tensorflow:Assets written to: C:\\Users\\USER\\AppData\\Local\\Temp\\tmp2ciulhts\\assets\n"
     ]
    },
    {
     "name": "stdout",
     "output_type": "stream",
     "text": [
      "The tflite output location: ./workspace/340_all_CNN\\tflite\\CNN_340_all.tflite\n"
     ]
    },
    {
     "name": "stderr",
     "output_type": "stream",
     "text": [
      "WARNING:absl:Found untraced functions such as _jit_compiled_convolution_op, _jit_compiled_convolution_op while saving (showing 2 of 2). These functions will not be directly callable after loading.\n"
     ]
    },
    {
     "name": "stdout",
     "output_type": "stream",
     "text": [
      "INFO:tensorflow:Assets written to: C:\\Users\\USER\\AppData\\Local\\Temp\\tmpg8v_898f\\assets\n"
     ]
    },
    {
     "name": "stderr",
     "output_type": "stream",
     "text": [
      "INFO:tensorflow:Assets written to: C:\\Users\\USER\\AppData\\Local\\Temp\\tmpg8v_898f\\assets\n"
     ]
    },
    {
     "name": "stdout",
     "output_type": "stream",
     "text": [
      "The tflite output location: ./workspace/340_all_CNN\\tflite\\CNN_340_all_dyquant.tflite\n"
     ]
    },
    {
     "name": "stderr",
     "output_type": "stream",
     "text": [
      "WARNING:absl:Found untraced functions such as _jit_compiled_convolution_op, _jit_compiled_convolution_op while saving (showing 2 of 2). These functions will not be directly callable after loading.\n"
     ]
    },
    {
     "name": "stdout",
     "output_type": "stream",
     "text": [
      "INFO:tensorflow:Assets written to: C:\\Users\\USER\\AppData\\Local\\Temp\\tmpd8q0sthh\\assets\n"
     ]
    },
    {
     "name": "stderr",
     "output_type": "stream",
     "text": [
      "INFO:tensorflow:Assets written to: C:\\Users\\USER\\AppData\\Local\\Temp\\tmpd8q0sthh\\assets\n",
      "c:\\ProgramData\\anaconda3\\envs\\NuEdgeWise_env\\lib\\site-packages\\tensorflow\\lite\\python\\convert.py:766: UserWarning: Statistics for quantized inputs were expected, but not specified; continuing anyway.\n",
      "  warnings.warn(\"Statistics for quantized inputs were expected, but not \"\n"
     ]
    },
    {
     "name": "stdout",
     "output_type": "stream",
     "text": [
      "The tflite output location: ./workspace/340_all_CNN\\tflite\\CNN_340_all_int8quant.tflite\n"
     ]
    },
    {
     "name": "stderr",
     "output_type": "stream",
     "text": [
      "WARNING:absl:Found untraced functions such as _jit_compiled_convolution_op, _jit_compiled_convolution_op while saving (showing 2 of 2). These functions will not be directly callable after loading.\n"
     ]
    },
    {
     "name": "stdout",
     "output_type": "stream",
     "text": [
      "INFO:tensorflow:Assets written to: C:\\Users\\USER\\AppData\\Local\\Temp\\tmp15iv30sa\\assets\n"
     ]
    },
    {
     "name": "stderr",
     "output_type": "stream",
     "text": [
      "INFO:tensorflow:Assets written to: C:\\Users\\USER\\AppData\\Local\\Temp\\tmp15iv30sa\\assets\n"
     ]
    },
    {
     "name": "stdout",
     "output_type": "stream",
     "text": [
      "The tflite output location: ./workspace/340_all_CNN\\tflite\\CNN_340_all_f16quant.tflite\n"
     ]
    }
   ],
   "source": [
    "convert2tflite(os.path.join(WORK_DIR, MODEL_NAME), os.path.join(WORK_DIR, 'tflite'), x_valid, 256)"
   ]
  },
  {
   "cell_type": "markdown",
   "metadata": {},
   "source": [
    "- #### Test the tflite to make sure the accuracy. "
   ]
  },
  {
   "cell_type": "code",
   "execution_count": 20,
   "metadata": {},
   "outputs": [],
   "source": [
    "from tqdm import tqdm\n",
    "def tflite_inference(rep_dataset, rep_dataset_y, tflite_path, batch_N):\n",
    "      \"\"\"Call forwards pass of TFLite file and returns the result.\n",
    "  \n",
    "      Args:\n",
    "          input_data: Input data to use on forward pass.\n",
    "          tflite_path: Path to TFLite file to run.\n",
    "  \n",
    "      Returns:\n",
    "          Output from inference.\n",
    "      \"\"\"\n",
    "\n",
    "      interpreter = tf.lite.Interpreter(model_path=tflite_path)\n",
    "      \n",
    "  \n",
    "      input_details = interpreter.get_input_details()\n",
    "      output_details = interpreter.get_output_details()\n",
    "  \n",
    "      input_dtype = input_details[0][\"dtype\"]\n",
    "      output_dtype = output_details[0][\"dtype\"]\n",
    "\n",
    "      input_shape = input_details[0]['shape']\n",
    "      output_shape = output_details[0]['shape']\n",
    "      interpreter.resize_tensor_input(input_details[0]['index'], [batch_N, input_shape[1], input_shape[2], input_shape[3]])\n",
    "      interpreter.resize_tensor_input(output_details[0]['index'], [batch_N, output_shape[1]])\n",
    "\n",
    "      interpreter.allocate_tensors()\n",
    "  \n",
    "      # Check if the input/output type is quantized,\n",
    "      # set scale and zero-point accordingly\n",
    "      if input_dtype == np.int8:\n",
    "          input_scale, input_zero_point = input_details[0][\"quantization\"]\n",
    "\n",
    "          rep_dataset = np.round(rep_dataset/input_scale + input_zero_point)\n",
    "\n",
    "      else:\n",
    "          #input_scale, input_zero_point = 1, 0\n",
    "          input_scale, input_zero_point = input_details[0][\"quantization\"]\n",
    "  \n",
    "      if input_dtype == np.int8:\n",
    "          output_scale, output_zero_point = output_details[0][\"quantization\"]\n",
    "      else:\n",
    "          output_scale, output_zero_point = 1, 0\n",
    "      \n",
    "      # skip the final set < batch_N, bcs the input/output tensor are fix. \n",
    "      loop_num = (int)(np.floor(len(rep_dataset)/batch_N))  \n",
    "      \n",
    "      acy_all  = 0\n",
    "      acy_top3 = 0\n",
    "      for i in tqdm(range(loop_num)):\n",
    "          #if i == (loop_num - 1):\n",
    "          #    input_batch = rep_dataset[i*batch_N:-1]\n",
    "          #else:\n",
    "          input_batch = rep_dataset[i*batch_N:(i+1)*batch_N]\n",
    "\n",
    "          interpreter.set_tensor(input_details[0]['index'], tf.cast(input_batch, input_dtype))\n",
    "          interpreter.invoke()\n",
    "          output_data = interpreter.get_tensor(output_details[0]['index'])\n",
    "          output_data = output_scale * (output_data.astype(np.float32) - output_zero_point)\n",
    "          #print(preds2catIdx(output_data).shape)\n",
    "          acy_all += top1_acc(valid_df[['y']][i*batch_N:(i+1)*batch_N].values.flatten(), preds2catIdx(output_data).values)\n",
    "          acy_top3 += top3_acc(rep_dataset_y[['y']][i*batch_N:(i+1)*batch_N].values.flatten(), preds2catIdx(output_data).values)\n",
    "          #print('Top3 Accuracy: {:.3f}'.format(top3))\n",
    "\n",
    "      return   acy_all/loop_num, acy_top3/loop_num"
   ]
  },
  {
   "cell_type": "code",
   "execution_count": 21,
   "metadata": {},
   "outputs": [
    {
     "name": "stderr",
     "output_type": "stream",
     "text": [
      "100%|██████████| 19/19 [05:10<00:00, 16.32s/it]\n"
     ]
    }
   ],
   "source": [
    "top1, top3 = tflite_inference(x_valid[0:5000], valid_df[['y']][0:5000], os.path.join(WORK_DIR, 'tflite', (MODEL_NAME + r'_int8quant.tflite')), 128) "
   ]
  },
  {
   "cell_type": "code",
   "execution_count": 22,
   "metadata": {},
   "outputs": [
    {
     "name": "stdout",
     "output_type": "stream",
     "text": [
      "Top1 Accuracy: 0.683\n",
      "Top3 Accuracy: 0.848\n"
     ]
    }
   ],
   "source": [
    "print('Top1 Accuracy: {:.3f}'.format(top1))\n",
    "print('Top3 Accuracy: {:.3f}'.format(top3))  "
   ]
  },
  {
   "cell_type": "markdown",
   "metadata": {},
   "source": [
    "- #### Load test data and test the Keras & TFlite model. "
   ]
  },
  {
   "cell_type": "code",
   "execution_count": null,
   "metadata": {},
   "outputs": [],
   "source": [
    "# Use the final csvs as validation set, bcs the validation set is 0~2*10**5, we skip the first 2*10**5\n",
    "test_df = pd.read_csv(os.path.join(DP_DIR, 'train_k{}.csv.gz'.format(NUM_CSVS - 1)), skiprows=lambda x: x in range(1,(2*10**5+1)), nrows=1*10**5)\n",
    "x_test = df_to_image_array(test_df, INPUT_IMG_SIZE)\n",
    "y_test = keras.utils.to_categorical(test_df.y, num_classes=NUM_CATS)\n",
    "print(x_test.shape, y_test.shape)\n",
    "print('test array memory {:.2f} GB'.format(x_test.nbytes / 1024.**3 ))"
   ]
  },
  {
   "cell_type": "code",
   "execution_count": null,
   "metadata": {},
   "outputs": [],
   "source": [
    "# Map3: 按照排名給分，第一名hit=>1, 第二名hit=>1/2, 第三名hit=>1/3 以此類推\n",
    "valid_predictions = model.predict(x_test, batch_size=128, verbose=1)\n",
    "map3 = mapk(test_df[['y']].values, preds2catIdx(valid_predictions).values)\n",
    "top1 = top1_acc(test_df[['y']].values.flatten(), preds2catIdx(valid_predictions).values)\n",
    "top3 = top3_acc(test_df[['y']].values.flatten(), preds2catIdx(valid_predictions).values)\n",
    "print('Test Keras model:')\n",
    "print('Test Top1 Accuracy: {:.3f}'.format(top1))\n",
    "print('Test Top3 Accuracy: {:.3f}'.format(top3))\n",
    "print('Map3: {:.3f}'.format(map3))"
   ]
  },
  {
   "cell_type": "code",
   "execution_count": null,
   "metadata": {},
   "outputs": [],
   "source": [
    "top1, top3 = tflite_inference(x_test[0:10000], test_df[['y']][0:10000], os.path.join(WORK_DIR, 'tflite', (MODEL_NAME + r'_int8quant.tflite')), 128)"
   ]
  },
  {
   "cell_type": "code",
   "execution_count": null,
   "metadata": {},
   "outputs": [],
   "source": [
    "print('Test TFLite model:')\n",
    "print('Test Top1 Accuracy: {:.3f}'.format(top1))\n",
    "print('Test Top3 Accuracy: {:.3f}'.format(top3))   "
   ]
  }
 ],
 "metadata": {
  "kernelspec": {
   "display_name": "NuEdgeWise_env",
   "language": "python",
   "name": "python3"
  },
  "language_info": {
   "codemirror_mode": {
    "name": "ipython",
    "version": 3
   },
   "file_extension": ".py",
   "mimetype": "text/x-python",
   "name": "python",
   "nbconvert_exporter": "python",
   "pygments_lexer": "ipython3",
   "version": "3.8.13"
  },
  "orig_nbformat": 4
 },
 "nbformat": 4,
 "nbformat_minor": 2
}
